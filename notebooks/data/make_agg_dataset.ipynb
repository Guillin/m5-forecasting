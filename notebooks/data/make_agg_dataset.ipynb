{
 "cells": [
  {
   "cell_type": "code",
   "execution_count": 1,
   "metadata": {},
   "outputs": [],
   "source": [
    "import pandas as pd\n",
    "import numpy as np\n"
   ]
  },
  {
   "cell_type": "code",
   "execution_count": 2,
   "metadata": {},
   "outputs": [],
   "source": [
    "INPUT_PATH = '../../data/processed'\n",
    "INPUT_FILE_NAME = 'dataproc_v001'\n",
    "OUTPUT_PATH = '../../data/processed'\n",
    "OUTPUT_FILE_NAME = 'dataproc_agg_v01'\n",
    "NITER = 200\n",
    "NRUN = 3\n",
    "DAYS_PRED = 28"
   ]
  },
  {
   "cell_type": "markdown",
   "metadata": {},
   "source": [
    "### LOAD DATASET"
   ]
  },
  {
   "cell_type": "markdown",
   "metadata": {},
   "source": [
    "data = pd.read_pickle(f'{INPUT_PATH}/{INPUT_FILE_NAME}.pkl')"
   ]
  },
  {
   "cell_type": "code",
   "execution_count": 3,
   "metadata": {},
   "outputs": [],
   "source": [
    "data = pd.read_csv(f'{INPUT_PATH}/{INPUT_FILE_NAME}.csv', sep=';')"
   ]
  },
  {
   "cell_type": "markdown",
   "metadata": {},
   "source": [
    "### AGGREGATION"
   ]
  },
  {
   "cell_type": "code",
   "execution_count": 4,
   "metadata": {},
   "outputs": [],
   "source": [
    "LEVEL = ['state_id', 'date','d']"
   ]
  },
  {
   "cell_type": "code",
   "execution_count": 5,
   "metadata": {},
   "outputs": [],
   "source": [
    "VAR = 'demand'"
   ]
  },
  {
   "cell_type": "code",
   "execution_count": 6,
   "metadata": {},
   "outputs": [],
   "source": [
    "aggregation = {VAR: ['mean', 'min', 'max', 'std', 'median']}"
   ]
  },
  {
   "cell_type": "code",
   "execution_count": 7,
   "metadata": {},
   "outputs": [],
   "source": [
    "data_agg = data.groupby(LEVEL).agg(aggregation).reset_index()"
   ]
  },
  {
   "cell_type": "code",
   "execution_count": 8,
   "metadata": {},
   "outputs": [],
   "source": [
    "columns = LEVEL + [VAR + '_' + v for v in aggregation[VAR]]"
   ]
  },
  {
   "cell_type": "code",
   "execution_count": 9,
   "metadata": {},
   "outputs": [],
   "source": [
    "data_agg.columns = columns"
   ]
  },
  {
   "cell_type": "markdown",
   "metadata": {},
   "source": [
    "### SAVE DATASET"
   ]
  },
  {
   "cell_type": "code",
   "execution_count": 10,
   "metadata": {},
   "outputs": [],
   "source": [
    "data_agg.to_pickle(f'{OUTPUT_PATH}/{OUTPUT_FILE_NAME}.pkl')"
   ]
  },
  {
   "cell_type": "code",
   "execution_count": 11,
   "metadata": {},
   "outputs": [
    {
     "data": {
      "text/html": [
       "<div>\n",
       "<style scoped>\n",
       "    .dataframe tbody tr th:only-of-type {\n",
       "        vertical-align: middle;\n",
       "    }\n",
       "\n",
       "    .dataframe tbody tr th {\n",
       "        vertical-align: top;\n",
       "    }\n",
       "\n",
       "    .dataframe thead th {\n",
       "        text-align: right;\n",
       "    }\n",
       "</style>\n",
       "<table border=\"1\" class=\"dataframe\">\n",
       "  <thead>\n",
       "    <tr style=\"text-align: right;\">\n",
       "      <th></th>\n",
       "      <th>state_id</th>\n",
       "      <th>date</th>\n",
       "      <th>d</th>\n",
       "      <th>demand_mean</th>\n",
       "      <th>demand_min</th>\n",
       "      <th>demand_max</th>\n",
       "      <th>demand_std</th>\n",
       "      <th>demand_median</th>\n",
       "    </tr>\n",
       "  </thead>\n",
       "  <tbody>\n",
       "    <tr>\n",
       "      <th>0</th>\n",
       "      <td>0</td>\n",
       "      <td>2014-05-23</td>\n",
       "      <td>1211</td>\n",
       "      <td>1.215480</td>\n",
       "      <td>0</td>\n",
       "      <td>100</td>\n",
       "      <td>3.424985</td>\n",
       "      <td>0.0</td>\n",
       "    </tr>\n",
       "    <tr>\n",
       "      <th>1</th>\n",
       "      <td>0</td>\n",
       "      <td>2014-05-24</td>\n",
       "      <td>1212</td>\n",
       "      <td>1.389882</td>\n",
       "      <td>0</td>\n",
       "      <td>75</td>\n",
       "      <td>3.834877</td>\n",
       "      <td>0.0</td>\n",
       "    </tr>\n",
       "    <tr>\n",
       "      <th>2</th>\n",
       "      <td>0</td>\n",
       "      <td>2014-05-25</td>\n",
       "      <td>1213</td>\n",
       "      <td>1.341423</td>\n",
       "      <td>0</td>\n",
       "      <td>138</td>\n",
       "      <td>4.025995</td>\n",
       "      <td>0.0</td>\n",
       "    </tr>\n",
       "    <tr>\n",
       "      <th>3</th>\n",
       "      <td>0</td>\n",
       "      <td>2014-05-26</td>\n",
       "      <td>1214</td>\n",
       "      <td>1.335766</td>\n",
       "      <td>0</td>\n",
       "      <td>101</td>\n",
       "      <td>3.855254</td>\n",
       "      <td>0.0</td>\n",
       "    </tr>\n",
       "    <tr>\n",
       "      <th>4</th>\n",
       "      <td>0</td>\n",
       "      <td>2014-05-27</td>\n",
       "      <td>1215</td>\n",
       "      <td>1.148327</td>\n",
       "      <td>0</td>\n",
       "      <td>97</td>\n",
       "      <td>3.272491</td>\n",
       "      <td>0.0</td>\n",
       "    </tr>\n",
       "  </tbody>\n",
       "</table>\n",
       "</div>"
      ],
      "text/plain": [
       "   state_id        date     d  demand_mean  demand_min  demand_max  \\\n",
       "0         0  2014-05-23  1211     1.215480           0         100   \n",
       "1         0  2014-05-24  1212     1.389882           0          75   \n",
       "2         0  2014-05-25  1213     1.341423           0         138   \n",
       "3         0  2014-05-26  1214     1.335766           0         101   \n",
       "4         0  2014-05-27  1215     1.148327           0          97   \n",
       "\n",
       "   demand_std  demand_median  \n",
       "0    3.424985            0.0  \n",
       "1    3.834877            0.0  \n",
       "2    4.025995            0.0  \n",
       "3    3.855254            0.0  \n",
       "4    3.272491            0.0  "
      ]
     },
     "execution_count": 11,
     "metadata": {},
     "output_type": "execute_result"
    }
   ],
   "source": [
    "data_agg.head()"
   ]
  }
 ],
 "metadata": {
  "kernelspec": {
   "display_name": "Python 3",
   "language": "python",
   "name": "python3"
  },
  "language_info": {
   "codemirror_mode": {
    "name": "ipython",
    "version": 3
   },
   "file_extension": ".py",
   "mimetype": "text/x-python",
   "name": "python",
   "nbconvert_exporter": "python",
   "pygments_lexer": "ipython3",
   "version": "3.7.6"
  }
 },
 "nbformat": 4,
 "nbformat_minor": 2
}
