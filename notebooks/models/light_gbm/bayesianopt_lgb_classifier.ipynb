{
 "cells": [
  {
   "cell_type": "markdown",
   "metadata": {},
   "source": [
    "# LigthGBM - CLASSIFICATION - BAYESIAN OPTIMIZATION"
   ]
  },
  {
   "cell_type": "code",
   "execution_count": 1,
   "metadata": {},
   "outputs": [],
   "source": [
    "import numpy as np\n",
    "from scipy.stats import uniform as sp_rand\n",
    "from sklearn import datasets\n",
    "import lightgbm as lgb\n",
    "from lightgbm import LGBMClassifier\n",
    "from bayes_opt import BayesianOptimization\n",
    "import pandas as pd\n",
    "from datetime import datetime\n",
    "from time import time"
   ]
  },
  {
   "cell_type": "code",
   "execution_count": 52,
   "metadata": {},
   "outputs": [],
   "source": [
    "from sklearn.metrics import roc_auc_score, auc"
   ]
  },
  {
   "cell_type": "code",
   "execution_count": 3,
   "metadata": {},
   "outputs": [],
   "source": [
    "import warnings\n",
    "warnings.filterwarnings('ignore')"
   ]
  },
  {
   "cell_type": "markdown",
   "metadata": {},
   "source": [
    "### GLOBAL VARIABLES"
   ]
  },
  {
   "cell_type": "code",
   "execution_count": 33,
   "metadata": {},
   "outputs": [],
   "source": [
    "DATAPATH = 'data/train_test/'\n",
    "SEED = 47\n",
    "NITER = 20\n",
    "CV = 3\n",
    "SCORE = 'roc_auc'\n",
    "handlingnull = False\n",
    "NJOBS = -1\n",
    "USEGPU = False\n",
    "NCLASS = 3 # number class to predict (if bivar set 0)"
   ]
  },
  {
   "cell_type": "markdown",
   "metadata": {},
   "source": [
    "### LOAD DATASET"
   ]
  },
  {
   "cell_type": "code",
   "execution_count": 5,
   "metadata": {},
   "outputs": [],
   "source": [
    "train_features = X = pd.read_pickle('data/processed/X.pkl')"
   ]
  },
  {
   "cell_type": "code",
   "execution_count": 6,
   "metadata": {},
   "outputs": [],
   "source": [
    "train_labels = pd.read_pickle('data/processed/y.pkl')"
   ]
  },
  {
   "cell_type": "code",
   "execution_count": 7,
   "metadata": {},
   "outputs": [],
   "source": [
    "y_train = train_labels.copy()"
   ]
  },
  {
   "cell_type": "code",
   "execution_count": 8,
   "metadata": {},
   "outputs": [],
   "source": [
    "train_labels = train_labels['target']"
   ]
  },
  {
   "cell_type": "code",
   "execution_count": 9,
   "metadata": {},
   "outputs": [],
   "source": [
    "campaign = pd.read_pickle('data/features/campaign_quarter_001.pkl')"
   ]
  },
  {
   "cell_type": "code",
   "execution_count": 10,
   "metadata": {},
   "outputs": [],
   "source": [
    "digital = pd.read_pickle('data/features/digital_features_period_001.pkl')"
   ]
  },
  {
   "cell_type": "code",
   "execution_count": 11,
   "metadata": {},
   "outputs": [],
   "source": [
    "rcc = pd.read_pickle('data/features/X_rcc_features_ten_001.pkl')"
   ]
  },
  {
   "cell_type": "code",
   "execution_count": 12,
   "metadata": {},
   "outputs": [],
   "source": [
    "rcc.drop(['id_persona', 'codmes'], inplace=True, axis=1)"
   ]
  },
  {
   "cell_type": "code",
   "execution_count": 13,
   "metadata": {},
   "outputs": [],
   "source": [
    "train_features = train_features.join(campaign).join(rcc).join(digital)"
   ]
  },
  {
   "cell_type": "code",
   "execution_count": 14,
   "metadata": {},
   "outputs": [],
   "source": [
    "# create dataset for lightgbm\n",
    "lgb_train = lgb.Dataset(train_features.values, train_labels.values)"
   ]
  },
  {
   "cell_type": "markdown",
   "metadata": {},
   "source": [
    "### TRAIN MODEL"
   ]
  },
  {
   "cell_type": "markdown",
   "metadata": {},
   "source": [
    "#### Set Search hyperparameters"
   ]
  },
  {
   "cell_type": "code",
   "execution_count": 15,
   "metadata": {},
   "outputs": [],
   "source": [
    "# ======== General Parameters ======= #\n",
    "\n",
    "# Select the type of model to run at each iteration. gbtree or gblinear.\n",
    "boosting = 'gbdt'\n",
    "\n",
    "\n",
    "# ======== Booster Parameters ======== # \n",
    "\n",
    "# Analogous to learning rate in GBM. \n",
    "# Typical final values to be used: 0.01-0.2\n",
    "eta = [0.01] \n",
    "\n",
    "\n",
    "# A node is split only when the resulting split gives a positive reduction in the loss function. \n",
    "# Gamma specifies the minimum loss reduction required to make a split.\n",
    "gamma = [i/10.0 for i in range(0,5)]\n",
    "\n",
    "\n",
    "# Control the balance of positive and negative weights, useful for unbalanced classes. \n",
    "# A typical value to consider: sum(negative instances) / sum(positive instances)scale_pos_weight = 1\n",
    "scale_pos_weight = (len(train_labels) - sum(train_labels))/sum(train_labels)\n",
    "\n",
    "\n",
    "# Learning Task Parameters\n",
    "# This defines the loss function to be minimized. See documentation\n",
    "# -  options: regression, regression_l1, huber, fair, poisson, quantile, \n",
    "# mape, gamma, tweedie, binary, multiclass, multiclassova, cross_entropy, cross_entropy_lambda,\n",
    "# lambdarank, aliases: objective_type, app, application\n",
    "objective  = 'binary'\n",
    "\n",
    "\n",
    "# The metric to be used for validation data.\n",
    "# - rmse, root square loss, aliases: root_mean_squared_error, l2_root\n",
    "# - quantile, Quantile regression\n",
    "# - mape, MAPE loss, aliases: mean_absolute_percentage_error\n",
    "# - huber, Huber loss\n",
    "# - fair, Fair loss\n",
    "# - poisson, negative log-likelihood for Poisson regression\n",
    "# - gamma, negative log-likelihood for Gamma regression\n",
    "# - gamma_deviance, residual deviance for Gamma regression\n",
    "# - tweedie, negative log-likelihood for Tweedie regression\n",
    "# - ndcg, NDCG, aliases: lambdarank\n",
    "# - map, MAP, aliases: mean_average_precision\n",
    "# - auc, AUC\n",
    "# - binary_logloss, log loss, aliases: binary\n",
    "metric = 'auc'"
   ]
  },
  {
   "cell_type": "markdown",
   "metadata": {},
   "source": [
    "[lightGBM params](https://lightgbm.readthedocs.io/en/latest/Parameters.html)\n"
   ]
  },
  {
   "cell_type": "markdown",
   "metadata": {
    "collapsed": true
   },
   "source": [
    "help(lgb.LGBMClassifier)"
   ]
  },
  {
   "cell_type": "markdown",
   "metadata": {},
   "source": [
    "#### Define the search space"
   ]
  },
  {
   "cell_type": "code",
   "execution_count": 16,
   "metadata": {},
   "outputs": [],
   "source": [
    "pds = {\n",
    "    # Minimal number of data in one leaf. Can be used to deal with over-fitting\n",
    "    # default = 20, type = int, aliases: min_data_per_leaf, min_data, min_child_samples, \n",
    "    'num_leaves': (20, 100),\n",
    "\n",
    "    # Denotes the fraction of columns to be randomly samples for each tree.\n",
    "    'feature_fraction': (0.1, 0.9),\n",
    "    \n",
    "    # Denotes the fraction of observations to be randomly samples for each tree.\n",
    "    'bagging_fraction': (0.8, 1),\n",
    "\n",
    "    # The maximum depth of a tree\n",
    "    'max_depth': (9, 13 ),\n",
    "\n",
    "    'min_split_gain': (0.001, 0.1),\n",
    "\n",
    "    # Minimal sum hessian in one leaf. Like min_data_in_leaf, it can be used to deal with over-fitting\n",
    "    # Default 1e-3\n",
    "    'min_child_weight': (30, 50),    \n",
    "}"
   ]
  },
  {
   "cell_type": "code",
   "execution_count": 17,
   "metadata": {},
   "outputs": [
    {
     "data": {
      "text/plain": [
       "{'num_leaves': (20, 100),\n",
       " 'feature_fraction': (0.1, 0.9),\n",
       " 'bagging_fraction': (0.8, 1),\n",
       " 'max_depth': (9, 13),\n",
       " 'min_split_gain': (0.001, 0.1),\n",
       " 'min_child_weight': (30, 50)}"
      ]
     },
     "execution_count": 17,
     "metadata": {},
     "output_type": "execute_result"
    }
   ],
   "source": [
    "pds"
   ]
  },
  {
   "cell_type": "markdown",
   "metadata": {},
   "source": [
    "#### Find num boost"
   ]
  },
  {
   "cell_type": "code",
   "execution_count": 18,
   "metadata": {},
   "outputs": [],
   "source": [
    "early_stopping_rounds = 50"
   ]
  },
  {
   "cell_type": "code",
   "execution_count": 19,
   "metadata": {},
   "outputs": [],
   "source": [
    "# specify your configurations as a dict\n",
    "lgb_params = {\n",
    "    'boosting_type': boosting,\n",
    "    'objective': objective,\n",
    "    'metric': metric,\n",
    "    'num_leaves': 31,\n",
    "    'learning_rate': 0.05,\n",
    "    'feature_fraction': 0.9,\n",
    "    'bagging_fraction': 0.8,\n",
    "    'bagging_freq': 5,\n",
    "    'num_threads' : 8,\n",
    "    'verbose': 0,\n",
    "    #'num_class':  NCLASS,\n",
    "    'seed' : SEED\n",
    "}"
   ]
  },
  {
   "cell_type": "code",
   "execution_count": 20,
   "metadata": {},
   "outputs": [],
   "source": [
    "cvresult = lgb.cv(lgb_params, lgb_train, num_boost_round = 1000, nfold = CV, metrics = metric, early_stopping_rounds = early_stopping_rounds, seed = SEED)"
   ]
  },
  {
   "cell_type": "code",
   "execution_count": 21,
   "metadata": {},
   "outputs": [],
   "source": [
    "n_estimators = pd.DataFrame(cvresult).shape[0]"
   ]
  },
  {
   "cell_type": "code",
   "execution_count": 22,
   "metadata": {},
   "outputs": [
    {
     "name": "stdout",
     "output_type": "stream",
     "text": [
      "Best number of estimators found:  364\n"
     ]
    }
   ],
   "source": [
    "print(\"Best number of estimators found: \", n_estimators)"
   ]
  },
  {
   "cell_type": "markdown",
   "metadata": {},
   "source": [
    "### Bayesian optimization hyperparameters"
   ]
  },
  {
   "cell_type": "code",
   "execution_count": 35,
   "metadata": {},
   "outputs": [],
   "source": [
    "test_probs = []\n",
    "test_auc = []\n",
    "\n",
    "def hyp_lgbm(num_leaves, feature_fraction, bagging_fraction, max_depth, min_split_gain, min_child_weight):\n",
    "      \n",
    "    params = {'boosting_type': boosting,\n",
    "              'objective': objective,\n",
    "              'num_iterations': n_estimators,\n",
    "              'learning_rate':eta, \n",
    "              #'early_stopping_round':50,\n",
    "              'metric': metric,\n",
    "              'seed':SEED} # Default parameters\n",
    "    \n",
    "    \n",
    "    params[\"num_leaves\"] = int(round(num_leaves))\n",
    "    params['feature_fraction'] = max(min(feature_fraction, 1), 0)\n",
    "    params['bagging_fraction'] = max(min(bagging_fraction, 1), 0)\n",
    "    params['max_depth'] = int(round(max_depth))\n",
    "    params['min_split_gain'] = min_split_gain\n",
    "    params['min_child_weight'] = min_child_weight\n",
    "    params['min_split_gain'] = min_split_gain\n",
    "    \n",
    "    \n",
    "    model = LGBMClassifier().set_params(**params)\n",
    "    \n",
    "    drop_cols = [\"codmes\"]\n",
    "    \n",
    "    \n",
    "    for m in train_features.codmes.unique():\n",
    "        Xt = train_features[train_features.codmes != m]\n",
    "        yt = train_labels[train_labels.index.isin(Xt.index)]\n",
    "        Xt = Xt.drop(drop_cols, axis=1)\n",
    "\n",
    "        Xv = train_features[train_features.codmes == m]\n",
    "        yv = train_labels[train_labels.index.isin(Xv.index)]\n",
    "    \n",
    "        \n",
    "        res = model.fit(Xt, yt,  eval_metric=metric, verbose=False)\n",
    "        \n",
    "        pred = model.predict_proba(Xv.drop(drop_cols, axis=1))[:, -1]\n",
    "    \n",
    "        test_auc.append(roc_auc_score(yv.values, pred))\n",
    "        \n",
    "        test_probs.append(pd.Series(pred,\n",
    "                                index=Xv.index, name=\"probs\"))\n",
    "        \n",
    "        \n",
    "    \n",
    "    # Extract the best score\n",
    "    best_score = np.mean(test_auc)\n",
    "    \n",
    "    # Loss must be minimized\n",
    "    #loss = 1 - best_score\n",
    "\n",
    "    return best_score"
   ]
  },
  {
   "cell_type": "code",
   "execution_count": 36,
   "metadata": {},
   "outputs": [],
   "source": [
    "# Surrogate model\n",
    "optimizer = BayesianOptimization(hyp_lgbm,pds,random_state=7)"
   ]
  },
  {
   "cell_type": "code",
   "execution_count": 37,
   "metadata": {},
   "outputs": [
    {
     "name": "stdout",
     "output_type": "stream",
     "text": [
      "|   iter    |  target   | baggin... | featur... | max_depth | min_ch... | min_sp... | num_le... |\n",
      "-------------------------------------------------------------------------------------------------\n",
      "| \u001b[0m 1       \u001b[0m | \u001b[0m 0.7929  \u001b[0m | \u001b[0m 0.8153  \u001b[0m | \u001b[0m 0.7239  \u001b[0m | \u001b[0m 10.75   \u001b[0m | \u001b[0m 44.47   \u001b[0m | \u001b[0m 0.09782 \u001b[0m | \u001b[0m 63.08   \u001b[0m |\n",
      "| \u001b[0m 2       \u001b[0m | \u001b[0m 0.7916  \u001b[0m | \u001b[0m 0.9002  \u001b[0m | \u001b[0m 0.1576  \u001b[0m | \u001b[0m 10.07   \u001b[0m | \u001b[0m 40.0    \u001b[0m | \u001b[0m 0.06824 \u001b[0m | \u001b[0m 84.3    \u001b[0m |\n",
      "| \u001b[0m 3       \u001b[0m | \u001b[0m 0.7906  \u001b[0m | \u001b[0m 0.8762  \u001b[0m | \u001b[0m 0.1527  \u001b[0m | \u001b[0m 10.15   \u001b[0m | \u001b[0m 48.19   \u001b[0m | \u001b[0m 0.02213 \u001b[0m | \u001b[0m 56.17   \u001b[0m |\n",
      "| \u001b[0m 5       \u001b[0m | \u001b[0m 0.7898  \u001b[0m | \u001b[0m 0.9818  \u001b[0m | \u001b[0m 0.2065  \u001b[0m | \u001b[0m 11.09   \u001b[0m | \u001b[0m 45.01   \u001b[0m | \u001b[0m 0.06723 \u001b[0m | \u001b[0m 57.42   \u001b[0m |\n",
      "| \u001b[0m 6       \u001b[0m | \u001b[0m 0.7904  \u001b[0m | \u001b[0m 0.9684  \u001b[0m | \u001b[0m 0.5078  \u001b[0m | \u001b[0m 9.112   \u001b[0m | \u001b[0m 30.15   \u001b[0m | \u001b[0m 0.03288 \u001b[0m | \u001b[0m 99.99   \u001b[0m |\n",
      "| \u001b[0m 7       \u001b[0m | \u001b[0m 0.7898  \u001b[0m | \u001b[0m 0.94    \u001b[0m | \u001b[0m 0.3149  \u001b[0m | \u001b[0m 9.255   \u001b[0m | \u001b[0m 30.21   \u001b[0m | \u001b[0m 0.06564 \u001b[0m | \u001b[0m 20.06   \u001b[0m |\n",
      "| \u001b[0m 8       \u001b[0m | \u001b[0m 0.7903  \u001b[0m | \u001b[0m 0.9125  \u001b[0m | \u001b[0m 0.2489  \u001b[0m | \u001b[0m 11.83   \u001b[0m | \u001b[0m 49.99   \u001b[0m | \u001b[0m 0.06267 \u001b[0m | \u001b[0m 99.88   \u001b[0m |\n",
      "| \u001b[0m 9       \u001b[0m | \u001b[0m 0.7907  \u001b[0m | \u001b[0m 0.9208  \u001b[0m | \u001b[0m 0.6397  \u001b[0m | \u001b[0m 10.54   \u001b[0m | \u001b[0m 30.12   \u001b[0m | \u001b[0m 0.04086 \u001b[0m | \u001b[0m 99.96   \u001b[0m |\n",
      "| \u001b[0m 10      \u001b[0m | \u001b[0m 0.7904  \u001b[0m | \u001b[0m 0.876   \u001b[0m | \u001b[0m 0.5691  \u001b[0m | \u001b[0m 12.0    \u001b[0m | \u001b[0m 30.19   \u001b[0m | \u001b[0m 0.09596 \u001b[0m | \u001b[0m 20.08   \u001b[0m |\n",
      "| \u001b[0m 11      \u001b[0m | \u001b[0m 0.7907  \u001b[0m | \u001b[0m 0.967   \u001b[0m | \u001b[0m 0.7428  \u001b[0m | \u001b[0m 12.33   \u001b[0m | \u001b[0m 30.17   \u001b[0m | \u001b[0m 0.05164 \u001b[0m | \u001b[0m 99.95   \u001b[0m |\n",
      "| \u001b[0m 12      \u001b[0m | \u001b[0m 0.7909  \u001b[0m | \u001b[0m 0.8228  \u001b[0m | \u001b[0m 0.4465  \u001b[0m | \u001b[0m 9.196   \u001b[0m | \u001b[0m 49.88   \u001b[0m | \u001b[0m 0.002012\u001b[0m | \u001b[0m 99.98   \u001b[0m |\n",
      "| \u001b[0m 13      \u001b[0m | \u001b[0m 0.7906  \u001b[0m | \u001b[0m 0.9424  \u001b[0m | \u001b[0m 0.3636  \u001b[0m | \u001b[0m 12.87   \u001b[0m | \u001b[0m 49.89   \u001b[0m | \u001b[0m 0.09091 \u001b[0m | \u001b[0m 20.09   \u001b[0m |\n",
      "| \u001b[0m 14      \u001b[0m | \u001b[0m 0.7908  \u001b[0m | \u001b[0m 0.9345  \u001b[0m | \u001b[0m 0.3     \u001b[0m | \u001b[0m 10.38   \u001b[0m | \u001b[0m 50.0    \u001b[0m | \u001b[0m 0.07721 \u001b[0m | \u001b[0m 99.88   \u001b[0m |\n",
      "| \u001b[0m 15      \u001b[0m | \u001b[0m 0.791   \u001b[0m | \u001b[0m 0.984   \u001b[0m | \u001b[0m 0.6709  \u001b[0m | \u001b[0m 11.1    \u001b[0m | \u001b[0m 30.13   \u001b[0m | \u001b[0m 0.07521 \u001b[0m | \u001b[0m 100.0   \u001b[0m |\n",
      "| \u001b[0m 16      \u001b[0m | \u001b[0m 0.7911  \u001b[0m | \u001b[0m 0.9268  \u001b[0m | \u001b[0m 0.6833  \u001b[0m | \u001b[0m 9.445   \u001b[0m | \u001b[0m 49.83   \u001b[0m | \u001b[0m 0.03981 \u001b[0m | \u001b[0m 99.88   \u001b[0m |\n",
      "| \u001b[0m 17      \u001b[0m | \u001b[0m 0.7912  \u001b[0m | \u001b[0m 0.9735  \u001b[0m | \u001b[0m 0.2296  \u001b[0m | \u001b[0m 9.286   \u001b[0m | \u001b[0m 30.35   \u001b[0m | \u001b[0m 0.001186\u001b[0m | \u001b[0m 99.97   \u001b[0m |\n",
      "| \u001b[0m 18      \u001b[0m | \u001b[0m 0.7913  \u001b[0m | \u001b[0m 0.815   \u001b[0m | \u001b[0m 0.4195  \u001b[0m | \u001b[0m 9.001   \u001b[0m | \u001b[0m 30.07   \u001b[0m | \u001b[0m 0.01184 \u001b[0m | \u001b[0m 99.98   \u001b[0m |\n",
      "| \u001b[0m 19      \u001b[0m | \u001b[0m 0.7915  \u001b[0m | \u001b[0m 0.8855  \u001b[0m | \u001b[0m 0.7733  \u001b[0m | \u001b[0m 12.98   \u001b[0m | \u001b[0m 49.83   \u001b[0m | \u001b[0m 0.04744 \u001b[0m | \u001b[0m 99.9    \u001b[0m |\n",
      "| \u001b[0m 20      \u001b[0m | \u001b[0m 0.7916  \u001b[0m | \u001b[0m 0.9767  \u001b[0m | \u001b[0m 0.7796  \u001b[0m | \u001b[0m 12.51   \u001b[0m | \u001b[0m 49.95   \u001b[0m | \u001b[0m 0.05432 \u001b[0m | \u001b[0m 99.79   \u001b[0m |\n",
      "| \u001b[0m 21      \u001b[0m | \u001b[0m 0.7917  \u001b[0m | \u001b[0m 0.8909  \u001b[0m | \u001b[0m 0.8188  \u001b[0m | \u001b[0m 9.675   \u001b[0m | \u001b[0m 50.0    \u001b[0m | \u001b[0m 0.09837 \u001b[0m | \u001b[0m 99.97   \u001b[0m |\n",
      "| \u001b[0m 22      \u001b[0m | \u001b[0m 0.7917  \u001b[0m | \u001b[0m 0.9355  \u001b[0m | \u001b[0m 0.2028  \u001b[0m | \u001b[0m 9.513   \u001b[0m | \u001b[0m 49.88   \u001b[0m | \u001b[0m 0.01904 \u001b[0m | \u001b[0m 100.0   \u001b[0m |\n",
      "| \u001b[0m 23      \u001b[0m | \u001b[0m 0.7918  \u001b[0m | \u001b[0m 0.9094  \u001b[0m | \u001b[0m 0.7546  \u001b[0m | \u001b[0m 11.82   \u001b[0m | \u001b[0m 49.66   \u001b[0m | \u001b[0m 0.007766\u001b[0m | \u001b[0m 100.0   \u001b[0m |\n",
      "| \u001b[0m 24      \u001b[0m | \u001b[0m 0.7919  \u001b[0m | \u001b[0m 0.8026  \u001b[0m | \u001b[0m 0.3233  \u001b[0m | \u001b[0m 11.24   \u001b[0m | \u001b[0m 49.57   \u001b[0m | \u001b[0m 0.04196 \u001b[0m | \u001b[0m 99.98   \u001b[0m |\n",
      "| \u001b[0m 25      \u001b[0m | \u001b[0m 0.792   \u001b[0m | \u001b[0m 0.8154  \u001b[0m | \u001b[0m 0.5262  \u001b[0m | \u001b[0m 11.68   \u001b[0m | \u001b[0m 49.83   \u001b[0m | \u001b[0m 0.001039\u001b[0m | \u001b[0m 99.75   \u001b[0m |\n",
      "=================================================================================================\n"
     ]
    }
   ],
   "source": [
    "# Optimize\n",
    "optimizer.maximize(init_points=5, n_iter=NITER)"
   ]
  },
  {
   "cell_type": "markdown",
   "metadata": {},
   "source": [
    "#### Best parameter"
   ]
  },
  {
   "cell_type": "code",
   "execution_count": 38,
   "metadata": {},
   "outputs": [
    {
     "data": {
      "text/plain": [
       "{'bagging_fraction': 0.8152616578747914,\n",
       " 'feature_fraction': 0.7239350337920917,\n",
       " 'max_depth': 10.753636925763574,\n",
       " 'min_child_weight': 44.469303556618826,\n",
       " 'min_split_gain': 0.09782096168766367,\n",
       " 'num_leaves': 63.079669632834694}"
      ]
     },
     "execution_count": 38,
     "metadata": {},
     "output_type": "execute_result"
    }
   ],
   "source": [
    "optimizer.max['params']"
   ]
  },
  {
   "cell_type": "markdown",
   "metadata": {},
   "source": [
    "#### Saving best hyperparameters"
   ]
  },
  {
   "cell_type": "code",
   "execution_count": 63,
   "metadata": {},
   "outputs": [],
   "source": [
    "best_params = optimizer.max['params']"
   ]
  },
  {
   "cell_type": "code",
   "execution_count": 64,
   "metadata": {},
   "outputs": [],
   "source": [
    "best_params['n_estimators'] = n_estimators"
   ]
  },
  {
   "cell_type": "code",
   "execution_count": 1,
   "metadata": {
    "collapsed": true
   },
   "outputs": [
    {
     "ename": "NameError",
     "evalue": "name 'best_params' is not defined",
     "output_type": "error",
     "traceback": [
      "\u001b[0;31m---------------------------------------------------------------------------\u001b[0m",
      "\u001b[0;31mNameError\u001b[0m                                 Traceback (most recent call last)",
      "\u001b[0;32m<ipython-input-1-bca2bedf354b>\u001b[0m in \u001b[0;36m<module>\u001b[0;34m\u001b[0m\n\u001b[0;32m----> 1\u001b[0;31m \u001b[0mbest_params\u001b[0m\u001b[0;34m\u001b[0m\u001b[0;34m\u001b[0m\u001b[0m\n\u001b[0m",
      "\u001b[0;31mNameError\u001b[0m: name 'best_params' is not defined"
     ]
    }
   ],
   "source": [
    "best_params"
   ]
  },
  {
   "cell_type": "code",
   "execution_count": 66,
   "metadata": {},
   "outputs": [],
   "source": [
    "np.save('output/hyperparameters/bayesianopt_gbm_classifier_bestparams_d' + str(datetime.now().date()) + '.npy', best_params)"
   ]
  },
  {
   "cell_type": "markdown",
   "metadata": {},
   "source": [
    "#### Find best cutoff best"
   ]
  },
  {
   "cell_type": "code",
   "execution_count": 45,
   "metadata": {},
   "outputs": [
    {
     "data": {
      "text/plain": [
       "     fun: -1.1384509243196543\n",
       " message: 'Optimization terminated successfully.'\n",
       "    nfev: 107\n",
       "     nit: 6\n",
       " success: True\n",
       "       x: array([0.04843624])"
      ]
     },
     "execution_count": 45,
     "metadata": {},
     "output_type": "execute_result"
    }
   ],
   "source": [
    "from scipy.optimize import differential_evolution\n",
    "\n",
    "res = y_train.join(pd.concat(test_probs).rename(\"probs\"))\n",
    "optimization = differential_evolution(lambda c: -((res.probs > c[0]) * res.margen / res.margen.sum()).sum(), [(0, 1)])\n",
    "optimization"
   ]
  },
  {
   "cell_type": "code",
   "execution_count": 56,
   "metadata": {},
   "outputs": [],
   "source": [
    "cutoff = 0.04843624"
   ]
  },
  {
   "cell_type": "code",
   "execution_count": 53,
   "metadata": {},
   "outputs": [],
   "source": [
    "def plot_roc_curve(true_labels, scores):\n",
    "    ### actual code for roc + threshold charts start here \n",
    "    # compute fpr, tpr, thresholds and roc_auc\n",
    "    fpr, tpr, thresholds = roc_curve(true_labels, scores)\n",
    "    roc_auc = auc(fpr, tpr) # compute area under the curve\n",
    "\n",
    "    plt.figure()\n",
    "    plt.plot(fpr, tpr, label='ROC curve (area = %0.2f)' % (roc_auc))\n",
    "    plt.plot([0, 1], [0, 1], 'k--')\n",
    "    plt.xlim([0.0, 1.0])\n",
    "    plt.ylim([0.0, 1.05])\n",
    "    plt.xlabel('False Positive Rate')\n",
    "    plt.ylabel('True Positive Rate')\n",
    "    plt.title('Receiver operating characteristic')\n",
    "    plt.legend(loc=\"lower right\")\n",
    "\n",
    "    # create the axis of thresholds (scores)\n",
    "    ax2 = plt.gca().twinx()\n",
    "    ax2.plot(fpr, thresholds, markeredgecolor='r',linestyle='dashed', color='r')\n",
    "    ax2.set_ylabel('Threshold',color='r')\n",
    "    ax2.set_ylim([thresholds[-1],thresholds[0]])\n",
    "    ax2.set_xlim([fpr[0],fpr[-1]])\n",
    "\n",
    "    plt.show()\n",
    "    \n",
    "    pass"
   ]
  },
  {
   "cell_type": "code",
   "execution_count": 48,
   "metadata": {},
   "outputs": [],
   "source": [
    "from sklearn.metrics import roc_auc_score, roc_curve\n",
    "%matplotlib inline\n",
    "import matplotlib.pyplot as plt"
   ]
  },
  {
   "cell_type": "code",
   "execution_count": 54,
   "metadata": {},
   "outputs": [
    {
     "data": {
      "image/png": "[encoded data removed]",
      "text/plain": [
       "<Figure size 432x288 with 2 Axes>"
      ]
     },
     "metadata": {
      "needs_background": "light"
     },
     "output_type": "display_data"
    }
   ],
   "source": [
    "plot_roc_curve(res['target'], res['probs'])"
   ]
  },
  {
   "cell_type": "code",
   "execution_count": 57,
   "metadata": {},
   "outputs": [],
   "source": [
    "# Find prediction to the dataframe applying threshold\n",
    "res['pred'] = np.where(res.probs > cutoff,1,0)"
   ]
  },
  {
   "cell_type": "code",
   "execution_count": 60,
   "metadata": {},
   "outputs": [
    {
     "data": {
      "text/plain": [
       "array([[2130137, 2666638],\n",
       "       [  48878,  470972]])"
      ]
     },
     "execution_count": 60,
     "metadata": {},
     "output_type": "execute_result"
    }
   ],
   "source": [
    "# Print confusion Matrix\n",
    "confusion_matrix(res['target'], res['pred'])"
   ]
  },
  {
   "cell_type": "code",
   "execution_count": 61,
   "metadata": {},
   "outputs": [
    {
     "data": {
      "text/plain": [
       "(5316625, 7)"
      ]
     },
     "execution_count": 61,
     "metadata": {},
     "output_type": "execute_result"
    }
   ],
   "source": [
    "res.shape"
   ]
  },
  {
   "cell_type": "code",
   "execution_count": 59,
   "metadata": {},
   "outputs": [],
   "source": [
    "from sklearn.metrics import confusion_matrix"
   ]
  }
 ],
 "metadata": {
  "kernelspec": {
   "display_name": "Xgboost (env)",
   "language": "python",
   "name": "xgboostenv"
  },
  "language_info": {
   "codemirror_mode": {
    "name": "ipython",
    "version": 3
   },
   "file_extension": ".py",
   "mimetype": "text/x-python",
   "name": "python",
   "nbconvert_exporter": "python",
   "pygments_lexer": "ipython3",
   "version": "3.7.2"
  }
 },
 "nbformat": 4,
 "nbformat_minor": 2
}
