{
 "cells": [
  {
   "cell_type": "markdown",
   "metadata": {},
   "source": [
    "# LigthGBM - CLASSIFICATION - BAYESIAN OPTIMIZATION"
   ]
  },
  {
   "cell_type": "code",
   "execution_count": 1,
   "metadata": {},
   "outputs": [],
   "source": [
    "import numpy as np\n",
    "from scipy.stats import uniform as sp_rand\n",
    "from sklearn import datasets\n",
    "import lightgbm as lgb\n",
    "from lightgbm import LGBMClassifier\n",
    "from bayes_opt import BayesianOptimization\n",
    "import pandas as pd\n",
    "from datetime import datetime\n",
    "from time import time"
   ]
  },
  {
   "cell_type": "code",
   "execution_count": 2,
   "metadata": {},
   "outputs": [],
   "source": [
    "from sklearn.metrics import roc_auc_score, auc"
   ]
  },
  {
   "cell_type": "code",
   "execution_count": 3,
   "metadata": {},
   "outputs": [],
   "source": [
    "import warnings\n",
    "warnings.filterwarnings('ignore')"
   ]
  },
  {
   "cell_type": "code",
   "execution_count": 4,
   "metadata": {},
   "outputs": [],
   "source": [
    "import gc"
   ]
  },
  {
   "cell_type": "code",
   "execution_count": 47,
   "metadata": {},
   "outputs": [],
   "source": [
    "import seaborn as sns"
   ]
  },
  {
   "cell_type": "code",
   "execution_count": 48,
   "metadata": {},
   "outputs": [],
   "source": [
    "from sklearn.metrics import confusion_matrix"
   ]
  },
  {
   "cell_type": "code",
   "execution_count": 49,
   "metadata": {},
   "outputs": [],
   "source": [
    "from sklearn.metrics import roc_auc_score, roc_curve\n",
    "%matplotlib inline\n",
    "import matplotlib.pyplot as plt"
   ]
  },
  {
   "cell_type": "code",
   "execution_count": 50,
   "metadata": {},
   "outputs": [],
   "source": [
    "def plot_score_dist(y_true, y_score):\n",
    "    \n",
    "    df = pd.DataFrame(data=np.column_stack((y_true, y_score)), columns=['target','score'])\n",
    "    \n",
    "    plt.figure(figsize=(7, 4))\n",
    "    ax = sns.boxplot(x=\"target\", y=\"score\", data=df)\n",
    "    ax.set_title(\"Score distribution\")\n",
    "\n",
    "    pass"
   ]
  },
  {
   "cell_type": "code",
   "execution_count": 51,
   "metadata": {},
   "outputs": [],
   "source": [
    "def plot_roc_curve(true_labels, scores):\n",
    "    ### actual code for roc + threshold charts start here \n",
    "    # compute fpr, tpr, thresholds and roc_auc\n",
    "    fpr, tpr, thresholds = roc_curve(true_labels, scores)\n",
    "    roc_auc = auc(fpr, tpr) # compute area under the curve\n",
    "\n",
    "    plt.figure()\n",
    "    plt.plot(fpr, tpr, label='ROC curve (area = %0.2f)' % (roc_auc))\n",
    "    plt.plot([0, 1], [0, 1], 'k--')\n",
    "    plt.xlim([0.0, 1.0])\n",
    "    plt.ylim([0.0, 1.05])\n",
    "    plt.xlabel('False Positive Rate')\n",
    "    plt.ylabel('True Positive Rate')\n",
    "    plt.title('Receiver operating characteristic')\n",
    "    plt.legend(loc=\"lower right\")\n",
    "\n",
    "    # create the axis of thresholds (scores)\n",
    "    ax2 = plt.gca().twinx()\n",
    "    ax2.plot(fpr, thresholds, markeredgecolor='r',linestyle='dashed', color='r')\n",
    "    ax2.set_ylabel('Threshold',color='r')\n",
    "    ax2.set_ylim([thresholds[-1],thresholds[0]])\n",
    "    ax2.set_xlim([fpr[0],fpr[-1]])\n",
    "\n",
    "    plt.show()\n",
    "    \n",
    "    pass"
   ]
  },
  {
   "cell_type": "code",
   "execution_count": 85,
   "metadata": {},
   "outputs": [],
   "source": [
    "def find_optimal_cutoff(target, predicted):\n",
    "    \"\"\" Find the optimal probability cutoff point for a classification model related to event rate\n",
    "    Parameters\n",
    "    ----------\n",
    "    target : Matrix with dependent or target data, where rows are observations\n",
    "\n",
    "    predicted : Matrix with predicted data, where rows are observations\n",
    "\n",
    "    Returns\n",
    "    -------     \n",
    "    list type, with optimal cutoff value\n",
    "\n",
    "    \"\"\"\n",
    "    fpr, tpr, threshold = roc_curve(target, predicted)\n",
    "    i = np.arange(len(tpr)) \n",
    "    roc = pd.DataFrame({'tf' : pd.Series(tpr-(1-fpr), index=i), 'threshold' : pd.Series(threshold, index=i)})\n",
    "    roc_t = roc.ix[(roc.tf-0).abs().argsort()[:1]]\n",
    "\n",
    "    return list(roc_t['threshold']) "
   ]
  },
  {
   "cell_type": "code",
   "execution_count": 65,
   "metadata": {},
   "outputs": [],
   "source": [
    "def plot_confusion_matrix(y_true, y_pred, classes,\n",
    "                          normalize=False,\n",
    "                          title=None,\n",
    "                          cmap=plt.cm.Blues):\n",
    "    \"\"\"\n",
    "    This function prints and plots the confusion matrix.\n",
    "    Normalization can be applied by setting `normalize=True`.\n",
    "    \"\"\"\n",
    "    if not title:\n",
    "        if normalize:\n",
    "            title = 'Normalized confusion matrix'\n",
    "        else:\n",
    "            title = 'Confusion matrix, without normalization'\n",
    "\n",
    "    # Compute confusion matrix\n",
    "    cm = confusion_matrix(y_true, y_pred)\n",
    "    # Only use the labels that appear in the data\n",
    "    classes = [classes[c] for c in unique_labels(y_true, y_pred)]\n",
    "    if normalize:\n",
    "        cm = cm.astype('float') / cm.sum(axis=1)[:, np.newaxis]\n",
    "        print(\"Normalized confusion matrix\")\n",
    "    else:\n",
    "        print('Confusion matrix, without normalization')\n",
    "\n",
    "    print(cm)\n",
    "\n",
    "    fig, ax = plt.subplots()\n",
    "    im = ax.imshow(cm, interpolation='nearest', cmap=cmap)\n",
    "    ax.figure.colorbar(im, ax=ax)\n",
    "    # We want to show all ticks...\n",
    "    ax.set(xticks=np.arange(cm.shape[1]),\n",
    "           yticks=np.arange(cm.shape[0]),\n",
    "           # ... and label them with the respective list entries\n",
    "           xticklabels=classes, yticklabels=classes,\n",
    "           title=title,\n",
    "           ylabel='True label',\n",
    "           xlabel='Predicted label')\n",
    "\n",
    "    # Rotate the tick labels and set their alignment.\n",
    "    plt.setp(ax.get_xticklabels(), rotation=45, ha=\"right\",\n",
    "             rotation_mode=\"anchor\")\n",
    "\n",
    "    # Loop over data dimensions and create text annotations.\n",
    "    fmt = '.2f' if normalize else 'd'\n",
    "    thresh = cm.max() / 2.\n",
    "    for i in range(cm.shape[0]):\n",
    "        for j in range(cm.shape[1]):\n",
    "            ax.text(j, i, format(cm[i, j], fmt),\n",
    "                    ha=\"center\", va=\"center\",\n",
    "                    color=\"white\" if cm[i, j] > thresh else \"black\")\n",
    "    fig.tight_layout()\n",
    "    return ax"
   ]
  },
  {
   "cell_type": "markdown",
   "metadata": {},
   "source": [
    "### GLOBAL VARIABLES"
   ]
  },
  {
   "cell_type": "code",
   "execution_count": 5,
   "metadata": {},
   "outputs": [],
   "source": [
    "DATAPATH = 'data/train_test/'\n",
    "SEED = 47\n",
    "NITER = 20\n",
    "CV = 3\n",
    "SCORE = 'roc_auc'\n",
    "handlingnull = False\n",
    "NJOBS = -1\n",
    "USEGPU = False\n",
    "NCLASS = 3 # number class to predict (if bivar set 0)"
   ]
  },
  {
   "cell_type": "markdown",
   "metadata": {},
   "source": [
    "### LOAD DATASET"
   ]
  },
  {
   "cell_type": "markdown",
   "metadata": {},
   "source": [
    "#### train"
   ]
  },
  {
   "cell_type": "code",
   "execution_count": 6,
   "metadata": {},
   "outputs": [],
   "source": [
    "train_features = X = pd.read_pickle('data/processed/X.pkl')"
   ]
  },
  {
   "cell_type": "code",
   "execution_count": 7,
   "metadata": {},
   "outputs": [],
   "source": [
    "train_labels = pd.read_pickle('data/processed/y.pkl')"
   ]
  },
  {
   "cell_type": "code",
   "execution_count": 8,
   "metadata": {},
   "outputs": [],
   "source": [
    "y_train = train_labels.copy()"
   ]
  },
  {
   "cell_type": "code",
   "execution_count": 9,
   "metadata": {},
   "outputs": [],
   "source": [
    "train_labels = train_labels['target']"
   ]
  },
  {
   "cell_type": "code",
   "execution_count": 10,
   "metadata": {},
   "outputs": [],
   "source": [
    "campaign = pd.read_pickle('data/features/campaign_quarter_001.pkl')"
   ]
  },
  {
   "cell_type": "code",
   "execution_count": 11,
   "metadata": {},
   "outputs": [],
   "source": [
    "digital = pd.read_pickle('data/features/digital_features_period_001.pkl')"
   ]
  },
  {
   "cell_type": "code",
   "execution_count": 12,
   "metadata": {},
   "outputs": [],
   "source": [
    "rcc = pd.read_pickle('data/features/X_rcc_features_ten_001.pkl')"
   ]
  },
  {
   "cell_type": "code",
   "execution_count": 13,
   "metadata": {},
   "outputs": [],
   "source": [
    "rcc.drop(['id_persona', 'codmes'], inplace=True, axis=1)"
   ]
  },
  {
   "cell_type": "code",
   "execution_count": 14,
   "metadata": {},
   "outputs": [],
   "source": [
    "train_features = train_features.join(campaign).join(rcc).join(digital)"
   ]
  },
  {
   "cell_type": "markdown",
   "metadata": {},
   "source": [
    "#### submit"
   ]
  },
  {
   "cell_type": "code",
   "execution_count": 15,
   "metadata": {},
   "outputs": [],
   "source": [
    "submit_features = X = pd.read_pickle('data/processed/submission.pkl')"
   ]
  },
  {
   "cell_type": "code",
   "execution_count": 16,
   "metadata": {},
   "outputs": [],
   "source": [
    "campaign = pd.read_pickle('data/features/campaign_quarter_001.pkl')"
   ]
  },
  {
   "cell_type": "code",
   "execution_count": 17,
   "metadata": {},
   "outputs": [],
   "source": [
    "digital = pd.read_pickle('data/features/digital_features_period_001.pkl')"
   ]
  },
  {
   "cell_type": "code",
   "execution_count": 18,
   "metadata": {},
   "outputs": [],
   "source": [
    "rcc = pd.read_pickle('data/features/submit_rcc_features_ten_001.pkl')"
   ]
  },
  {
   "cell_type": "code",
   "execution_count": 19,
   "metadata": {},
   "outputs": [],
   "source": [
    "rcc.drop(['id_persona', 'codmes'], inplace=True, axis=1)"
   ]
  },
  {
   "cell_type": "code",
   "execution_count": 20,
   "metadata": {},
   "outputs": [],
   "source": [
    "submit_features = submit_features.join(campaign).join(rcc).join(digital)"
   ]
  },
  {
   "cell_type": "code",
   "execution_count": 21,
   "metadata": {},
   "outputs": [],
   "source": [
    "del(campaign)\n",
    "del(digital)\n",
    "del(rcc)"
   ]
  },
  {
   "cell_type": "markdown",
   "metadata": {},
   "source": [
    "### TRAIN MODEL"
   ]
  },
  {
   "cell_type": "markdown",
   "metadata": {},
   "source": [
    "#### Set Search hyperparameters"
   ]
  },
  {
   "cell_type": "code",
   "execution_count": 22,
   "metadata": {},
   "outputs": [],
   "source": [
    "# ======== General Parameters ======= #\n",
    "\n",
    "# Select the type of model to run at each iteration. gbtree or gblinear.\n",
    "boosting = 'gbdt'\n",
    "\n",
    "\n",
    "# ======== Booster Parameters ======== # \n",
    "\n",
    "# Analogous to learning rate in GBM. \n",
    "# Typical final values to be used: 0.01-0.2\n",
    "eta = 0.01\n",
    "\n",
    "\n",
    "# A node is split only when the resulting split gives a positive reduction in the loss function. \n",
    "# Gamma specifies the minimum loss reduction required to make a split.\n",
    "gamma = [i/10.0 for i in range(0,5)]\n",
    "\n",
    "\n",
    "# Control the balance of positive and negative weights, useful for unbalanced classes. \n",
    "# A typical value to consider: sum(negative instances) / sum(positive instances)scale_pos_weight = 1\n",
    "scale_pos_weight = (len(train_labels) - sum(train_labels))/sum(train_labels)\n",
    "\n",
    "\n",
    "# Learning Task Parameters\n",
    "# This defines the loss function to be minimized. See documentation\n",
    "# -  options: regression, regression_l1, huber, fair, poisson, quantile, \n",
    "# mape, gamma, tweedie, binary, multiclass, multiclassova, cross_entropy, cross_entropy_lambda,\n",
    "# lambdarank, aliases: objective_type, app, application\n",
    "objective  = 'binary'\n",
    "\n",
    "\n",
    "# The metric to be used for validation data.\n",
    "# - rmse, root square loss, aliases: root_mean_squared_error, l2_root\n",
    "# - quantile, Quantile regression\n",
    "# - mape, MAPE loss, aliases: mean_absolute_percentage_error\n",
    "# - huber, Huber loss\n",
    "# - fair, Fair loss\n",
    "# - poisson, negative log-likelihood for Poisson regression\n",
    "# - gamma, negative log-likelihood for Gamma regression\n",
    "# - gamma_deviance, residual deviance for Gamma regression\n",
    "# - tweedie, negative log-likelihood for Tweedie regression\n",
    "# - ndcg, NDCG, aliases: lambdarank\n",
    "# - map, MAP, aliases: mean_average_precision\n",
    "# - auc, AUC\n",
    "# - binary_logloss, log loss, aliases: binary\n",
    "metric = 'auc'"
   ]
  },
  {
   "cell_type": "markdown",
   "metadata": {},
   "source": [
    "[lightGBM params](https://lightgbm.readthedocs.io/en/latest/Parameters.html)\n"
   ]
  },
  {
   "cell_type": "markdown",
   "metadata": {},
   "source": [
    "#### load hyperparameters"
   ]
  },
  {
   "cell_type": "code",
   "execution_count": 24,
   "metadata": {},
   "outputs": [],
   "source": [
    "model_param = np.load('output/models/bayesianopt_gbm_classifier_bestparams_d2019-11-24.npy').tolist()"
   ]
  },
  {
   "cell_type": "code",
   "execution_count": 25,
   "metadata": {
    "scrolled": true
   },
   "outputs": [
    {
     "data": {
      "text/plain": [
       "{'bagging_fraction': 0.8152616578747914,\n",
       " 'feature_fraction': 0.7239350337920917,\n",
       " 'max_depth': 10.753636925763574,\n",
       " 'min_child_weight': 44.469303556618826,\n",
       " 'min_split_gain': 0.09782096168766367,\n",
       " 'num_leaves': 63.079669632834694,\n",
       " 'n_estimators': 364}"
      ]
     },
     "execution_count": 25,
     "metadata": {},
     "output_type": "execute_result"
    }
   ],
   "source": [
    "model_param"
   ]
  },
  {
   "cell_type": "code",
   "execution_count": 26,
   "metadata": {},
   "outputs": [],
   "source": [
    "model_param['max_depth'] = int(np.round(model_param['max_depth'],0))\n",
    "model_param['min_child_weight'] = int(np.round(model_param['min_child_weight'],0))\n",
    "model_param['num_leaves'] = int(np.round(model_param['num_leaves'],0))"
   ]
  },
  {
   "cell_type": "code",
   "execution_count": 27,
   "metadata": {},
   "outputs": [],
   "source": [
    "model_param['boosting_type'] = boosting\n",
    "model_param['objective'] = objective\n",
    "model_param['learning_rate'] = eta\n",
    "model_param['metric'] = metric\n",
    "model_param['seed'] = SEED"
   ]
  },
  {
   "cell_type": "code",
   "execution_count": 28,
   "metadata": {
    "scrolled": true
   },
   "outputs": [
    {
     "data": {
      "text/plain": [
       "{'bagging_fraction': 0.8152616578747914,\n",
       " 'feature_fraction': 0.7239350337920917,\n",
       " 'max_depth': 11,\n",
       " 'min_child_weight': 44,\n",
       " 'min_split_gain': 0.09782096168766367,\n",
       " 'num_leaves': 63,\n",
       " 'n_estimators': 364,\n",
       " 'boosting_type': 'gbdt',\n",
       " 'objective': 'binary',\n",
       " 'learning_rate': 0.01,\n",
       " 'metric': 'auc',\n",
       " 'seed': 47}"
      ]
     },
     "execution_count": 28,
     "metadata": {},
     "output_type": "execute_result"
    }
   ],
   "source": [
    "model_param"
   ]
  },
  {
   "cell_type": "markdown",
   "metadata": {},
   "source": [
    "### Cross Period"
   ]
  },
  {
   "cell_type": "code",
   "execution_count": 29,
   "metadata": {},
   "outputs": [
    {
     "data": {
      "text/plain": [
       "170"
      ]
     },
     "execution_count": 29,
     "metadata": {},
     "output_type": "execute_result"
    }
   ],
   "source": [
    "gc.collect()"
   ]
  },
  {
   "cell_type": "code",
   "execution_count": 54,
   "metadata": {},
   "outputs": [
    {
     "name": "stdout",
     "output_type": "stream",
     "text": [
      "---------- 201901 ----------\n",
      "Training until validation scores don't improve for 10 rounds.\n",
      "[50]\ttraining's auc: 0.791596\tvalid_1's auc: 0.768277\n",
      "[100]\ttraining's auc: 0.799085\tvalid_1's auc: 0.773005\n",
      "[150]\ttraining's auc: 0.805544\tvalid_1's auc: 0.776357\n",
      "[200]\ttraining's auc: 0.81187\tvalid_1's auc: 0.779475\n",
      "[250]\ttraining's auc: 0.816872\tvalid_1's auc: 0.781544\n",
      "[300]\ttraining's auc: 0.821313\tvalid_1's auc: 0.782992\n",
      "[350]\ttraining's auc: 0.825153\tvalid_1's auc: 0.784276\n",
      "Did not meet early stopping. Best iteration is:\n",
      "[364]\ttraining's auc: 0.826127\tvalid_1's auc: 0.784549\n",
      "---------- 201903 ----------\n",
      "Training until validation scores don't improve for 10 rounds.\n",
      "[50]\ttraining's auc: 0.788114\tvalid_1's auc: 0.785547\n",
      "[100]\ttraining's auc: 0.795641\tvalid_1's auc: 0.790392\n",
      "[150]\ttraining's auc: 0.80263\tvalid_1's auc: 0.794175\n",
      "[200]\ttraining's auc: 0.808518\tvalid_1's auc: 0.797147\n",
      "[250]\ttraining's auc: 0.814282\tvalid_1's auc: 0.799895\n",
      "[300]\ttraining's auc: 0.819144\tvalid_1's auc: 0.801982\n",
      "[350]\ttraining's auc: 0.823468\tvalid_1's auc: 0.803782\n",
      "Did not meet early stopping. Best iteration is:\n",
      "[364]\ttraining's auc: 0.824596\tvalid_1's auc: 0.804152\n",
      "---------- 201902 ----------\n",
      "Training until validation scores don't improve for 10 rounds.\n",
      "[50]\ttraining's auc: 0.795358\tvalid_1's auc: 0.749784\n",
      "[100]\ttraining's auc: 0.803668\tvalid_1's auc: 0.756508\n",
      "[150]\ttraining's auc: 0.809476\tvalid_1's auc: 0.761272\n",
      "[200]\ttraining's auc: 0.814818\tvalid_1's auc: 0.7662\n",
      "[250]\ttraining's auc: 0.819735\tvalid_1's auc: 0.769993\n",
      "[300]\ttraining's auc: 0.824139\tvalid_1's auc: 0.773075\n",
      "[350]\ttraining's auc: 0.82811\tvalid_1's auc: 0.775694\n",
      "Did not meet early stopping. Best iteration is:\n",
      "[364]\ttraining's auc: 0.829167\tvalid_1's auc: 0.776299\n",
      "---------- 201904 ----------\n",
      "Training until validation scores don't improve for 10 rounds.\n",
      "[50]\ttraining's auc: 0.788641\tvalid_1's auc: 0.782828\n",
      "[100]\ttraining's auc: 0.79719\tvalid_1's auc: 0.791183\n",
      "[150]\ttraining's auc: 0.803863\tvalid_1's auc: 0.796048\n",
      "[200]\ttraining's auc: 0.809957\tvalid_1's auc: 0.799521\n",
      "[250]\ttraining's auc: 0.815357\tvalid_1's auc: 0.801939\n",
      "[300]\ttraining's auc: 0.820166\tvalid_1's auc: 0.80436\n",
      "[350]\ttraining's auc: 0.824401\tvalid_1's auc: 0.806109\n",
      "Did not meet early stopping. Best iteration is:\n",
      "[364]\ttraining's auc: 0.825449\tvalid_1's auc: 0.806428\n"
     ]
    }
   ],
   "source": [
    "drop_cols = [\"codmes\"]\n",
    "fi = []\n",
    "test_probs = []\n",
    "train_probs = []\n",
    "\n",
    "\n",
    "\n",
    "\n",
    "for m in train_features.codmes.unique():\n",
    "    print('-'*10, str(m),'-'*10)\n",
    "    Xt = train_features[train_features.codmes != m]\n",
    "    yt = train_labels[train_labels.index.isin(Xt.index)]\n",
    "    Xt = Xt.drop(drop_cols, axis=1)\n",
    "\n",
    "    Xv = train_features[train_features.codmes == m]\n",
    "    yv = train_labels[train_labels.index.isin(Xv.index)]\n",
    "\n",
    "    model = LGBMClassifier().set_params(**model_param)\n",
    "    #res = model.fit(Xt, yt,  eval_metric=metric, verbose=50)\n",
    "\n",
    "    res = model.fit(Xt, yt,  early_stopping_rounds=10, eval_metric=metric,\n",
    "                eval_set=[(Xt, yt), (Xv.drop(drop_cols, axis=1), yv)], verbose=50)\n",
    "    pred = model.predict_proba(Xv.drop(drop_cols, axis=1))[:, -1]\n",
    "\n",
    "    #test_auc.append(roc_auc_score(yv.values, pred))\n",
    "\n",
    "    train_probs.append(pd.Series(pred,\n",
    "                            index=Xv.index, name=\"probs\"))\n",
    "    \n",
    "    gc.collect()\n",
    "    test_probs.append(pd.Series(model.predict_proba(submit_features.drop(drop_cols, axis=1))[:, -1],\n",
    "                                index=submit_features.index, name=\"fold_\" + str(m)))\n",
    "    gc.collect()"
   ]
  },
  {
   "cell_type": "code",
   "execution_count": 34,
   "metadata": {},
   "outputs": [
    {
     "data": {
      "text/plain": [
       "178685"
      ]
     },
     "execution_count": 34,
     "metadata": {},
     "output_type": "execute_result"
    }
   ],
   "source": [
    "len(test_probs[1])"
   ]
  },
  {
   "cell_type": "code",
   "execution_count": 35,
   "metadata": {},
   "outputs": [
    {
     "data": {
      "text/plain": [
       "(178685, 1770)"
      ]
     },
     "execution_count": 35,
     "metadata": {},
     "output_type": "execute_result"
    }
   ],
   "source": [
    "submit_features.shape"
   ]
  },
  {
   "cell_type": "raw",
   "metadata": {},
   "source": [
    "train_probs = pd.concat(train_probs)"
   ]
  },
  {
   "cell_type": "raw",
   "metadata": {},
   "source": [
    "test_probs = pd.concat(test_probs, axis=1).mean(axis=1)"
   ]
  },
  {
   "cell_type": "markdown",
   "metadata": {},
   "source": [
    "#### cutoff 201901"
   ]
  },
  {
   "cell_type": "code",
   "execution_count": 62,
   "metadata": {},
   "outputs": [
    {
     "data": {
      "text/plain": [
       "     fun: -1.292511073267082\n",
       " message: 'Optimization terminated successfully.'\n",
       "    nfev: 107\n",
       "     nit: 6\n",
       " success: True\n",
       "       x: array([0.060631])"
      ]
     },
     "execution_count": 62,
     "metadata": {},
     "output_type": "execute_result"
    }
   ],
   "source": [
    "from scipy.optimize import differential_evolution\n",
    "\n",
    "#res = test_labels.join(pd.concat(y_pred).rename(\"probs\"))\n",
    "optimization = differential_evolution(lambda c: -((train_probs[0] > c[0]) * y_train[y_train.codmes == 201901].margen / y_train[y_train.codmes == 201901].margen.sum()).sum(), [(0, 1)])\n",
    "optimization"
   ]
  },
  {
   "cell_type": "code",
   "execution_count": 66,
   "metadata": {},
   "outputs": [],
   "source": [
    "cutoff = optimization[\"x\"][0]"
   ]
  },
  {
   "cell_type": "code",
   "execution_count": 63,
   "metadata": {},
   "outputs": [
    {
     "name": "stdout",
     "output_type": "stream",
     "text": [
      "roc_auc  :  0.784548811129389\n"
     ]
    }
   ],
   "source": [
    "print(SCORE,' : ', roc_auc_score(y_train[y_train.codmes == 201901].target,train_probs[0]))"
   ]
  },
  {
   "cell_type": "code",
   "execution_count": 64,
   "metadata": {},
   "outputs": [
    {
     "data": {
      "image/png": "[encoded data removed]",
      "text/plain": [
       "<Figure size 504x288 with 1 Axes>"
      ]
     },
     "metadata": {
      "needs_background": "light"
     },
     "output_type": "display_data"
    }
   ],
   "source": [
    "plot_score_dist(y_train[y_train.codmes == 201901].target,train_probs[0])"
   ]
  },
  {
   "cell_type": "code",
   "execution_count": 73,
   "metadata": {},
   "outputs": [],
   "source": [
    "# Find prediction to the dataframe applying threshold\n",
    "y_pred_201901 = np.where(test_probs[0] > cutoff,1,0)"
   ]
  },
  {
   "cell_type": "code",
   "execution_count": 74,
   "metadata": {},
   "outputs": [
    {
     "data": {
      "text/plain": [
       "array([0, 1, 0, ..., 0, 1, 0])"
      ]
     },
     "execution_count": 74,
     "metadata": {},
     "output_type": "execute_result"
    }
   ],
   "source": [
    "y_pred_201901"
   ]
  },
  {
   "cell_type": "markdown",
   "metadata": {},
   "source": [
    "#### cutoff 201903"
   ]
  },
  {
   "cell_type": "code",
   "execution_count": 80,
   "metadata": {},
   "outputs": [
    {
     "data": {
      "text/plain": [
       "     fun: -1.0929904551663363\n",
       " message: 'Optimization terminated successfully.'\n",
       "    nfev: 107\n",
       "     nit: 6\n",
       " success: True\n",
       "       x: array([0.05248487])"
      ]
     },
     "execution_count": 80,
     "metadata": {},
     "output_type": "execute_result"
    }
   ],
   "source": [
    "from scipy.optimize import differential_evolution\n",
    "\n",
    "#res = test_labels.join(pd.concat(y_pred).rename(\"probs\"))\n",
    "optimization = differential_evolution(lambda c: -((train_probs[1] > c[0]) * y_train[y_train.codmes == 201903].margen / y_train[y_train.codmes == 201903].margen.sum()).sum(), [(0, 1)])\n",
    "optimization"
   ]
  },
  {
   "cell_type": "code",
   "execution_count": 81,
   "metadata": {},
   "outputs": [],
   "source": [
    "cutoff = optimization[\"x\"][0]"
   ]
  },
  {
   "cell_type": "code",
   "execution_count": 94,
   "metadata": {},
   "outputs": [],
   "source": [
    "cutoff = find_optimal_cutoff(y_train[y_train.codmes == 201903].target, train_probs[1])[0]"
   ]
  },
  {
   "cell_type": "code",
   "execution_count": 88,
   "metadata": {},
   "outputs": [
    {
     "name": "stdout",
     "output_type": "stream",
     "text": [
      "roc_auc  :  0.8041521500093585\n"
     ]
    }
   ],
   "source": [
    "print(SCORE,' : ', roc_auc_score(y_train[y_train.codmes == 201903].target,train_probs[1]))"
   ]
  },
  {
   "cell_type": "code",
   "execution_count": 89,
   "metadata": {},
   "outputs": [
    {
     "data": {
      "image/png": "[encoded data removed]",
      "text/plain": [
       "<Figure size 504x288 with 1 Axes>"
      ]
     },
     "metadata": {
      "needs_background": "light"
     },
     "output_type": "display_data"
    }
   ],
   "source": [
    "plot_score_dist(y_train[y_train.codmes == 201903].target,train_probs[1])"
   ]
  },
  {
   "cell_type": "code",
   "execution_count": 95,
   "metadata": {},
   "outputs": [],
   "source": [
    "# Find prediction to the dataframe applying threshold\n",
    "y_pred_201903 = np.where(test_probs[1] > cutoff,1,0)"
   ]
  },
  {
   "cell_type": "markdown",
   "metadata": {},
   "source": [
    "#### cutoff 201902"
   ]
  },
  {
   "cell_type": "code",
   "execution_count": 97,
   "metadata": {},
   "outputs": [
    {
     "data": {
      "text/plain": [
       "     fun: -1.1403560667328474\n",
       " message: 'Optimization terminated successfully.'\n",
       "    nfev: 107\n",
       "     nit: 6\n",
       " success: True\n",
       "       x: array([0.04354558])"
      ]
     },
     "execution_count": 97,
     "metadata": {},
     "output_type": "execute_result"
    }
   ],
   "source": [
    "#res = test_labels.join(pd.concat(y_pred).rename(\"probs\"))\n",
    "optimization = differential_evolution(lambda c: -((train_probs[2] > c[0]) * y_train[y_train.codmes == 201902].margen / y_train[y_train.codmes == 201902].margen.sum()).sum(), [(0, 1)])\n",
    "optimization"
   ]
  },
  {
   "cell_type": "code",
   "execution_count": 98,
   "metadata": {},
   "outputs": [],
   "source": [
    "cutoff = optimization[\"x\"][0]"
   ]
  },
  {
   "cell_type": "code",
   "execution_count": 102,
   "metadata": {},
   "outputs": [
    {
     "data": {
      "text/plain": [
       "0.08830761587781594"
      ]
     },
     "execution_count": 102,
     "metadata": {},
     "output_type": "execute_result"
    }
   ],
   "source": [
    "cutoff"
   ]
  },
  {
   "cell_type": "code",
   "execution_count": 99,
   "metadata": {},
   "outputs": [],
   "source": [
    "cutoff = find_optimal_cutoff(y_train[y_train.codmes == 201902].target, train_probs[2])[0]"
   ]
  },
  {
   "cell_type": "code",
   "execution_count": 100,
   "metadata": {},
   "outputs": [
    {
     "name": "stdout",
     "output_type": "stream",
     "text": [
      "roc_auc  :  0.7762987079996253\n"
     ]
    }
   ],
   "source": [
    "print(SCORE,' : ', roc_auc_score(y_train[y_train.codmes == 201902].target,train_probs[2]))"
   ]
  },
  {
   "cell_type": "code",
   "execution_count": 101,
   "metadata": {},
   "outputs": [
    {
     "data": {
      "image/png": "[encoded data removed]",
      "text/plain": [
       "<Figure size 504x288 with 1 Axes>"
      ]
     },
     "metadata": {
      "needs_background": "light"
     },
     "output_type": "display_data"
    }
   ],
   "source": [
    "plot_score_dist(y_train[y_train.codmes == 201902].target,train_probs[2])"
   ]
  },
  {
   "cell_type": "code",
   "execution_count": 103,
   "metadata": {},
   "outputs": [],
   "source": [
    "# Find prediction to the dataframe applying threshold\n",
    "y_pred_201902 = np.where(test_probs[2] > cutoff,1,0)"
   ]
  },
  {
   "cell_type": "markdown",
   "metadata": {},
   "source": [
    "#### cutoff 201904"
   ]
  },
  {
   "cell_type": "code",
   "execution_count": 104,
   "metadata": {},
   "outputs": [
    {
     "data": {
      "text/plain": [
       "     fun: -1.1433435055817993\n",
       " message: 'Optimization terminated successfully.'\n",
       "    nfev: 77\n",
       "     nit: 4\n",
       " success: True\n",
       "       x: array([0.04893086])"
      ]
     },
     "execution_count": 104,
     "metadata": {},
     "output_type": "execute_result"
    }
   ],
   "source": [
    "from scipy.optimize import differential_evolution\n",
    "\n",
    "#res = test_labels.join(pd.concat(y_pred).rename(\"probs\"))\n",
    "optimization = differential_evolution(lambda c: -((train_probs[3] > c[0]) * y_train[y_train.codmes == 201904].margen / y_train[y_train.codmes == 201904].margen.sum()).sum(), [(0, 1)])\n",
    "optimization"
   ]
  },
  {
   "cell_type": "code",
   "execution_count": 105,
   "metadata": {},
   "outputs": [],
   "source": [
    "cutoff = optimization[\"x\"][0]"
   ]
  },
  {
   "cell_type": "code",
   "execution_count": 106,
   "metadata": {},
   "outputs": [],
   "source": [
    "cutoff = find_optimal_cutoff(y_train[y_train.codmes == 201904].target, train_probs[3])[0]"
   ]
  },
  {
   "cell_type": "code",
   "execution_count": 109,
   "metadata": {},
   "outputs": [
    {
     "data": {
      "text/plain": [
       "0.10572846468516182"
      ]
     },
     "execution_count": 109,
     "metadata": {},
     "output_type": "execute_result"
    }
   ],
   "source": [
    "cutoff"
   ]
  },
  {
   "cell_type": "code",
   "execution_count": 107,
   "metadata": {},
   "outputs": [
    {
     "name": "stdout",
     "output_type": "stream",
     "text": [
      "roc_auc  :  0.8064282302869383\n"
     ]
    }
   ],
   "source": [
    "print(SCORE,' : ', roc_auc_score(y_train[y_train.codmes == 201904].target,train_probs[3]))"
   ]
  },
  {
   "cell_type": "code",
   "execution_count": 108,
   "metadata": {},
   "outputs": [
    {
     "data": {
      "image/png": "[encoded data removed]",
      "text/plain": [
       "<Figure size 504x288 with 1 Axes>"
      ]
     },
     "metadata": {
      "needs_background": "light"
     },
     "output_type": "display_data"
    }
   ],
   "source": [
    "plot_score_dist(y_train[y_train.codmes == 201904].target,train_probs[3])"
   ]
  },
  {
   "cell_type": "code",
   "execution_count": 110,
   "metadata": {},
   "outputs": [],
   "source": [
    "# Find prediction to the dataframe applying threshold\n",
    "y_pred_201904 = np.where(test_probs[3] > cutoff,1,0)"
   ]
  },
  {
   "cell_type": "code",
   "execution_count": 116,
   "metadata": {},
   "outputs": [],
   "source": [
    "sales = [('y_pred_201904', y_pred_201904),\n",
    "         ('y_pred_201903', y_pred_201903),\n",
    "         ('y_pred_201902', y_pred_201902),\n",
    "         ('y_pred_201901', y_pred_201901),\n",
    "         ]\n",
    "df = pd.DataFrame.from_items(sales)"
   ]
  },
  {
   "cell_type": "code",
   "execution_count": 120,
   "metadata": {},
   "outputs": [
    {
     "data": {
      "text/plain": [
       "Index(['123381_201907', '125277_201906', '9564_201906', '249494_201906',\n",
       "       '131234_201907', '17651_201907', '211794_201905', '224194_201907',\n",
       "       '11651_201907', '172417_201906',\n",
       "       ...\n",
       "       '70520_201905', '39259_201906', '181859_201907', '28563_201907',\n",
       "       '180546_201907', '124159_201907', '82989_201907', '96180_201907',\n",
       "       '142533_201906', '43533_201905'],\n",
       "      dtype='object', name='prediction_id', length=178685)"
      ]
     },
     "execution_count": 120,
     "metadata": {},
     "output_type": "execute_result"
    }
   ],
   "source": [
    "submit_features.index"
   ]
  },
  {
   "cell_type": "code",
   "execution_count": 122,
   "metadata": {},
   "outputs": [],
   "source": [
    "df.index = submit_features.index"
   ]
  },
  {
   "cell_type": "code",
   "execution_count": 125,
   "metadata": {},
   "outputs": [],
   "source": [
    "df['sum_pred'] =  df.sum(axis=1)"
   ]
  },
  {
   "cell_type": "code",
   "execution_count": 137,
   "metadata": {},
   "outputs": [],
   "source": [
    "del df['class']"
   ]
  },
  {
   "cell_type": "code",
   "execution_count": 129,
   "metadata": {},
   "outputs": [],
   "source": [
    "df['class'] = np.where(df['sum_pred'] > 2, 1, 0)"
   ]
  },
  {
   "cell_type": "code",
   "execution_count": 138,
   "metadata": {},
   "outputs": [],
   "source": [
    "df['class'] =  df.max(axis=1)"
   ]
  },
  {
   "cell_type": "code",
   "execution_count": 139,
   "metadata": {},
   "outputs": [
    {
     "data": {
      "image/png": "[encoded data removed]",
      "text/plain": [
       "<Figure size 432x288 with 1 Axes>"
      ]
     },
     "metadata": {
      "needs_background": "light"
     },
     "output_type": "display_data"
    }
   ],
   "source": [
    "df['class'].hist(bins=100)\n",
    "pass"
   ]
  },
  {
   "cell_type": "code",
   "execution_count": 140,
   "metadata": {},
   "outputs": [],
   "source": [
    "df.reset_index(inplace=True)"
   ]
  },
  {
   "cell_type": "code",
   "execution_count": 142,
   "metadata": {},
   "outputs": [],
   "source": [
    "submit = df[['prediction_id', 'class']].sort_values(by='prediction_id')\n",
    "submit.to_csv(\"output/submits/submit_008.csv\", index=False, header=True)"
   ]
  }
 ],
 "metadata": {
  "kernelspec": {
   "display_name": "Xgboost (env)",
   "language": "python",
   "name": "xgboostenv"
  },
  "language_info": {
   "codemirror_mode": {
    "name": "ipython",
    "version": 3
   },
   "file_extension": ".py",
   "mimetype": "text/x-python",
   "name": "python",
   "nbconvert_exporter": "python",
   "pygments_lexer": "ipython3",
   "version": "3.7.2"
  }
 },
 "nbformat": 4,
 "nbformat_minor": 2
}
