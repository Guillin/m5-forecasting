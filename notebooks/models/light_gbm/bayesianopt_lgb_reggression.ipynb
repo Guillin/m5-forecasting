{
 "cells": [
  {
   "cell_type": "markdown",
   "metadata": {},
   "source": [
    "# LigthGBM - REGRESSOR - BAYESIAN OPTIMIZATION"
   ]
  },
  {
   "cell_type": "code",
   "execution_count": 1,
   "metadata": {},
   "outputs": [],
   "source": [
    "import numpy as np\n",
    "from scipy.stats import uniform as sp_rand\n",
    "from sklearn import datasets\n",
    "import lightgbm as lgb\n",
    "from lightgbm import LGBMRegressor\n",
    "from bayes_opt import BayesianOptimization\n",
    "from bayes_opt.logger import JSONLogger\n",
    "from bayes_opt.event import Events\n",
    "import pandas as pd\n",
    "from datetime import datetime\n",
    "from time import time\n",
    "from sklearn.metrics import mean_squared_error\n",
    "import gc"
   ]
  },
  {
   "cell_type": "code",
   "execution_count": 2,
   "metadata": {},
   "outputs": [],
   "source": [
    "import warnings\n",
    "warnings.filterwarnings('ignore')"
   ]
  },
  {
   "cell_type": "markdown",
   "metadata": {},
   "source": [
    "### GLOBAL VARIABLES"
   ]
  },
  {
   "cell_type": "code",
   "execution_count": 45,
   "metadata": {},
   "outputs": [],
   "source": [
    "INPUT_PATH = '../../../data/train_test'\n",
    "OUTPUT_PATH = '../../../models/light_gbm/hyperparameters'\n",
    "SEED = 47\n",
    "NITER = 10\n",
    "N_ESTIMATORS = 1000 # It set the max number of estimators. \n",
    "                    # The real number will depend on early sopping round parameter\n",
    "\n",
    "ESR = 50            # early_stopping_rounds \n",
    "CV = 3\n",
    "SCORE = 'rmse'\n",
    "handlingnull = False\n",
    "NJOBS = -1\n",
    "USEGPU = False"
   ]
  },
  {
   "cell_type": "markdown",
   "metadata": {},
   "source": [
    "### FUNCTIONS"
   ]
  },
  {
   "cell_type": "code",
   "execution_count": 4,
   "metadata": {},
   "outputs": [],
   "source": [
    "def rmse(y_true, y_pred):\n",
    "    return np.sqrt(mean_squared_error(y_true, y_pred))"
   ]
  },
  {
   "cell_type": "code",
   "execution_count": 5,
   "metadata": {},
   "outputs": [],
   "source": [
    "logger = JSONLogger(path=f'{OUTPUT_PATH}/bayesianopt_gbm_regressor_logs_d{datetime.now().date()}.json')"
   ]
  },
  {
   "cell_type": "markdown",
   "metadata": {},
   "source": [
    "### LOAD DATASET"
   ]
  },
  {
   "cell_type": "code",
   "execution_count": 6,
   "metadata": {},
   "outputs": [],
   "source": [
    "X_train_vector = np.load(f'{INPUT_PATH}/X_train.npy') # It loads a vector with the folds"
   ]
  },
  {
   "cell_type": "code",
   "execution_count": 7,
   "metadata": {},
   "outputs": [],
   "source": [
    "Y_train_vector = np.load(f'{INPUT_PATH}/Y_train.npy')"
   ]
  },
  {
   "cell_type": "code",
   "execution_count": 8,
   "metadata": {},
   "outputs": [],
   "source": [
    "X_val_vector = np.load(f'{INPUT_PATH}/X_val.npy') # It loads a vector with the folds"
   ]
  },
  {
   "cell_type": "code",
   "execution_count": 9,
   "metadata": {},
   "outputs": [],
   "source": [
    "Y_val_vector = np.load(f'{INPUT_PATH}/Y_val.npy') # It loads a vector with the folds"
   ]
  },
  {
   "cell_type": "code",
   "execution_count": 10,
   "metadata": {},
   "outputs": [],
   "source": [
    "FOLDS = X_train_vector.shape[0]"
   ]
  },
  {
   "cell_type": "code",
   "execution_count": 11,
   "metadata": {},
   "outputs": [],
   "source": [
    "features = pd.read_csv(f'{INPUT_PATH}/features.csv', index_col=False)"
   ]
  },
  {
   "cell_type": "code",
   "execution_count": 12,
   "metadata": {},
   "outputs": [],
   "source": [
    "categorical_feature = [0,1,2,3,4,5]"
   ]
  },
  {
   "cell_type": "markdown",
   "metadata": {},
   "source": [
    "### TRAIN MODEL"
   ]
  },
  {
   "cell_type": "markdown",
   "metadata": {},
   "source": [
    "#### Set Search hyperparameters"
   ]
  },
  {
   "cell_type": "code",
   "execution_count": 13,
   "metadata": {},
   "outputs": [],
   "source": [
    "# ======== General Parameters ======= #\n",
    "\n",
    "# Select the type of model to run at each iteration. gbtree or gblinear.\n",
    "boosting = 'gbdt'\n",
    "\n",
    "\n",
    "# ======== Booster Parameters ======== # \n",
    "\n",
    "# Analogous to learning rate in GBM. \n",
    "# Typical final values to be used: 0.01-0.2\n",
    "eta = [0.01] \n",
    "\n",
    "\n",
    "# Learning Task Parameters\n",
    "# This defines the loss function to be minimized. See documentation\n",
    "# -  options: regression, regression_l1, huber, fair, poisson, quantile, \n",
    "# mape, gamma, tweedie, binary, multiclass, multiclassova, cross_entropy, cross_entropy_lambda,\n",
    "# lambdarank, aliases: objective_type, app, application\n",
    "objective  = 'regression'\n",
    "\n",
    "\n",
    "# The metric to be used for validation data.\n",
    "# - rmse, root square loss, aliases: root_mean_squared_error, l2_root\n",
    "# - quantile, Quantile regression\n",
    "# - mape, MAPE loss, aliases: mean_absolute_percentage_error\n",
    "# - huber, Huber loss\n",
    "# - fair, Fair loss\n",
    "# - poisson, negative log-likelihood for Poisson regression\n",
    "# - gamma, negative log-likelihood for Gamma regression\n",
    "# - gamma_deviance, residual deviance for Gamma regression\n",
    "# - tweedie, negative log-likelihood for Tweedie regression\n",
    "# - ndcg, NDCG, aliases: lambdarank\n",
    "# - map, MAP, aliases: mean_average_precision\n",
    "# - auc, AUC\n",
    "# - binary_logloss, log loss, aliases: binary\n",
    "metric = 'rmse'"
   ]
  },
  {
   "cell_type": "markdown",
   "metadata": {},
   "source": [
    "[lightGBM params](https://lightgbm.readthedocs.io/en/latest/Parameters.html)\n"
   ]
  },
  {
   "cell_type": "markdown",
   "metadata": {
    "collapsed": true
   },
   "source": [
    "help(lgb.LGBMClassifier)"
   ]
  },
  {
   "cell_type": "markdown",
   "metadata": {},
   "source": [
    "#### Define the search space"
   ]
  },
  {
   "cell_type": "code",
   "execution_count": 14,
   "metadata": {},
   "outputs": [],
   "source": [
    "pds = {\n",
    "    # Minimal number of data in one leaf. Can be used to deal with over-fitting\n",
    "    # default = 20, type = int, aliases: min_data_per_leaf, min_data, min_child_samples, \n",
    "    'num_leaves': (6, 50),\n",
    "\n",
    "    # Denotes the fraction of columns to be randomly samples for each tree.\n",
    "    'feature_fraction': (0.4, 0.6),\n",
    "    \n",
    "    # Denotes the fraction of observations to be randomly samples for each tree.\n",
    "    'bagging_fraction': (0.8, 1),\n",
    "\n",
    "    # The maximum depth of a tree\n",
    "    'max_depth': (3, 10 ),\n",
    "\n",
    "    'min_split_gain': (0.001, 0.1),\n",
    "\n",
    "    # Minimal sum hessian in one leaf. Like min_data_in_leaf, \n",
    "    # it can be used to deal with over-fitting\n",
    "    # Default 1e-3\n",
    "    'min_child_weight': (1e-5, 1e4),   \n",
    "\n",
    "    #L1 regularization\n",
    "    'reg_alpha': (0,  100),\n",
    "\n",
    "    #L2 regularization\n",
    "    'reg_lambda': (0, 100) \n",
    "\n",
    "\n",
    "}"
   ]
  },
  {
   "cell_type": "code",
   "execution_count": 15,
   "metadata": {},
   "outputs": [
    {
     "data": {
      "text/plain": [
       "{'num_leaves': (6, 50),\n",
       " 'feature_fraction': (0.4, 0.6),\n",
       " 'bagging_fraction': (0.8, 1),\n",
       " 'max_depth': (3, 10),\n",
       " 'min_split_gain': (0.001, 0.1),\n",
       " 'min_child_weight': (1e-05, 10000.0),\n",
       " 'reg_alpha': (0, 100),\n",
       " 'reg_lambda': (0, 100)}"
      ]
     },
     "execution_count": 15,
     "metadata": {},
     "output_type": "execute_result"
    }
   ],
   "source": [
    "pds"
   ]
  },
  {
   "cell_type": "markdown",
   "metadata": {},
   "source": [
    "### Bayesian optimization hyperparameters"
   ]
  },
  {
   "cell_type": "code",
   "execution_count": 46,
   "metadata": {},
   "outputs": [],
   "source": [
    "def hyp_lgbm(num_leaves, feature_fraction, bagging_fraction, max_depth, min_split_gain, min_child_weight, reg_alpha, reg_lambda):\n",
    "    \n",
    "    best_score = []\n",
    "\n",
    "    fit_params = {\n",
    "    'num_boost_round': 100_000,\n",
    "    'early_stopping_rounds': ESR,\n",
    "    'verbose_eval': False,\n",
    "    \n",
    "    }\n",
    "      \n",
    "    bst_params = {'boosting_type': boosting,\n",
    "              'objective': objective,\n",
    "              'num_iterations': N_ESTIMATORS,\n",
    "              'learning_rate':eta, \n",
    "              'metric': metric,\n",
    "              'seed':SEED,\n",
    "                } # Default parameters\n",
    "    \n",
    "    \n",
    "    bst_params['num_leaves'] = int(round(num_leaves))\n",
    "    bst_params['feature_fraction'] = feature_fraction\n",
    "    bst_params['bagging_fraction'] = bagging_fraction\n",
    "    bst_params['max_depth'] = int(round(max_depth))\n",
    "    bst_params['min_split_gain'] = min_split_gain\n",
    "    bst_params['min_child_weight'] = min_child_weight\n",
    "    bst_params['min_split_gain'] = min_split_gain\n",
    "    bst_params['reg_alpha'] = reg_alpha\n",
    "    bst_params['reg_lambda'] = reg_lambda\n",
    "    \n",
    "    \n",
    "\n",
    "    for fold in range(FOLDS):\n",
    "        \n",
    "        X_trn, X_val = X_train_vector[fold], X_val_vector[fold]\n",
    "        y_trn, y_val = Y_train_vector[fold], Y_val_vector[fold]\n",
    "\n",
    "        # Create lgb datasets\n",
    "        train_set = lgb.Dataset(\n",
    "            X_trn,\n",
    "            label=y_trn,\n",
    "            categorical_feature=categorical_feature\n",
    "        )\n",
    "        val_set = lgb.Dataset(\n",
    "            X_val,\n",
    "            label=y_val,\n",
    "            categorical_feature=categorical_feature\n",
    "        )\n",
    "\n",
    "\n",
    "\n",
    "        model = lgb.train(\n",
    "            bst_params,\n",
    "            train_set,\n",
    "            valid_sets=[train_set, val_set],\n",
    "            valid_names=[\"train\", \"valid\"],\n",
    "            **fit_params,\n",
    "        )\n",
    "\n",
    "\n",
    "        best_score.append(model.best_score['valid'][metric])\n",
    "\n",
    "        del X_trn, X_val, y_trn, y_val\n",
    "\n",
    "        gc.collect()\n",
    "    \n",
    "  \n",
    "       \n",
    "    \n",
    "    # Extract the best score\n",
    "    score_avg = np.mean(best_score)\n",
    "    \n",
    "    # Loss must be minimized\n",
    "    loss = - score_avg\n",
    "      \n",
    "\n",
    "    return loss"
   ]
  },
  {
   "cell_type": "code",
   "execution_count": 47,
   "metadata": {},
   "outputs": [],
   "source": [
    "# Surrogate model\n",
    "optimizer = BayesianOptimization(hyp_lgbm,pds,random_state=7)"
   ]
  },
  {
   "cell_type": "code",
   "execution_count": 48,
   "metadata": {},
   "outputs": [],
   "source": [
    "optimizer.subscribe(Events.OPTIMIZATION_STEP, logger)"
   ]
  },
  {
   "cell_type": "code",
   "execution_count": 49,
   "metadata": {},
   "outputs": [],
   "source": [
    "# Optimize\n",
    "optimizer.maximize(init_points=5, n_iter=NITER)"
   ]
  },
  {
   "cell_type": "markdown",
   "metadata": {},
   "source": [
    "#### Best parameter"
   ]
  },
  {
   "cell_type": "code",
   "execution_count": 36,
   "metadata": {},
   "outputs": [
    {
     "data": {
      "text/plain": [
       "{'target': -2.4225318046259834,\n",
       " 'params': {'bagging_fraction': 0.8255678640312084,\n",
       "  'feature_fraction': 0.4395763075107805,\n",
       "  'max_depth': 6.563973542052434,\n",
       "  'min_child_weight': 13.092195085919592,\n",
       "  'min_split_gain': 0.03611876064469009,\n",
       "  'num_leaves': 6.181847286285093,\n",
       "  'reg_alpha': 89.75656980050594,\n",
       "  'reg_lambda': 2.1215817789469127}}"
      ]
     },
     "execution_count": 36,
     "metadata": {},
     "output_type": "execute_result"
    }
   ],
   "source": [
    "optimizer.max"
   ]
  },
  {
   "cell_type": "markdown",
   "metadata": {},
   "source": [
    "#### Saving best hyperparameters"
   ]
  },
  {
   "cell_type": "code",
   "execution_count": 37,
   "metadata": {},
   "outputs": [],
   "source": [
    "best_params = optimizer.max['params']"
   ]
  },
  {
   "cell_type": "code",
   "execution_count": 38,
   "metadata": {},
   "outputs": [],
   "source": [
    "best_params['n_estimators'] = N_ESTIMATORS"
   ]
  },
  {
   "cell_type": "code",
   "execution_count": 61,
   "metadata": {},
   "outputs": [
    {
     "data": {
      "text/plain": [
       "{'bagging_fraction': 0.8152616578747914,\n",
       " 'feature_fraction': 0.555983758448023,\n",
       " 'max_depth': 6.068864620086254,\n",
       " 'min_child_weight': 7234.65178107476,\n",
       " 'min_split_gain': 0.09782096168766367,\n",
       " 'num_leaves': 29.69381829805908,\n",
       " 'reg_alpha': 50.11204636599379,\n",
       " 'reg_lambda': 7.205113335976154,\n",
       " 'n_estimators': 2000}"
      ]
     },
     "execution_count": 61,
     "metadata": {},
     "output_type": "execute_result"
    }
   ],
   "source": [
    "best_params"
   ]
  },
  {
   "cell_type": "markdown",
   "metadata": {},
   "source": [
    "### SAVE HYPERPARAMETERS"
   ]
  },
  {
   "cell_type": "code",
   "execution_count": 62,
   "metadata": {},
   "outputs": [],
   "source": [
    "np.save(f'{OUTPUT_PATH}/bayesianopt_gbm_regressor_bestparams_d{datetime.now().date()}.npy', best_params)"
   ]
  }
 ],
 "metadata": {
  "kernelspec": {
   "display_name": "boostenv",
   "language": "python",
   "name": "boostenv"
  },
  "language_info": {
   "codemirror_mode": {
    "name": "ipython",
    "version": 3
   },
   "file_extension": ".py",
   "mimetype": "text/x-python",
   "name": "python",
   "nbconvert_exporter": "python",
   "pygments_lexer": "ipython3",
   "version": "3.7.6"
  }
 },
 "nbformat": 4,
 "nbformat_minor": 2
}
