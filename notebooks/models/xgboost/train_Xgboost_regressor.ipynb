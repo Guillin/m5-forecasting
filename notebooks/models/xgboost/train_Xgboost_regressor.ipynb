{
 "cells": [
  {
   "cell_type": "markdown",
   "metadata": {},
   "source": [
    "# TRAIN XGBOOST REGRESSOR"
   ]
  },
  {
   "cell_type": "code",
   "execution_count": null,
   "metadata": {},
   "outputs": [],
   "source": [
    "import numpy as np\n",
    "from scipy.stats import uniform as sp_rand\n",
    "from sklearn import datasets\n",
    "import xgboost as xgb\n",
    "from xgboost.sklearn import XGBRegressor\n",
    "import pandas as pd\n",
    "from datetime import datetime\n",
    "from time import time\n",
    "from sklearn.metrics import mean_squared_error\n",
    "import gc\n",
    "import pickle\n",
    "import matplotlib.pyplot as plt\n",
    "import seaborn as sns"
   ]
  },
  {
   "cell_type": "markdown",
   "metadata": {},
   "source": [
    "### GLOBAL VARIABLES"
   ]
  },
  {
   "cell_type": "code",
   "execution_count": null,
   "metadata": {},
   "outputs": [],
   "source": [
    "INPUT_PATH = '../../../data/train_test'\n",
    "FEATURES_PATH = '../../../data/features'\n",
    "HYPERPARAM_PATH = '../../../models/light_xgboost/hyperparameters'\n",
    "HYPERPARAM_NAME = 'best_hyperparam_xgb_regressor_rX'\n",
    "MODEL_PATH = '../../../models/xgboost/'\n",
    "MODEL_NAME = 'xgb_reg_XXX'\n",
    "SEED = 47\n",
    "N_ESTIMATORS = 1000 # It set the max number of estimators. \n",
    "                    # The real number will depend on early sopping round parameter\n",
    "\n",
    "ESR = 50            # early_stopping_rounds \n",
    "CV = 3\n",
    "SCORE = 'rmse'\n",
    "handlingnull = False\n",
    "NJOBS = -1\n",
    "USEGPU = False"
   ]
  },
  {
   "cell_type": "markdown",
   "metadata": {},
   "source": [
    "### FUNCTIONS"
   ]
  },
  {
   "cell_type": "code",
   "execution_count": null,
   "metadata": {},
   "outputs": [],
   "source": [
    "def train_xgb(bst_params, fit_params, X_train_vector, Y_train_vector, X_val_vector, Y_val_vector):\n",
    "    models = []\n",
    "\n",
    "    FOLDS = len(X_train_vector)\n",
    "\n",
    "    for fold in range(FOLDS):\n",
    "        print(f\"\\n----- Fold: ({fold + 1} / {FOLDS}) -----\\n\")\n",
    "        X_trn, X_val = X_train_vector[fold], X_val_vector[fold]\n",
    "        y_trn, y_val = Y_train_vector[fold].round().astype(int).clip(0), Y_val_vector[fold].round().astype(int).clip(0)\n",
    "        \n",
    "\n",
    "        train_set = xgb.DMatrix(\n",
    "            X_trn,\n",
    "            label=y_trn\n",
    "        )\n",
    "        \n",
    "        val_set = xgb.DMatrix(\n",
    "            X_val,\n",
    "            label=y_val\n",
    "        )\n",
    "\n",
    "        evallist  = [(val_set,'eval'), (train_set,'train')]\n",
    "        \n",
    "        model = xgb.train(\n",
    "            bst_params,\n",
    "            train_set,\n",
    "            evals=evallist,\n",
    "            **fit_params,\n",
    "        )\n",
    "        \n",
    "        models.append(model)\n",
    "\n",
    "        del X_trn, X_val, y_trn, y_val\n",
    "        gc.collect()\n",
    "\n",
    "    return models"
   ]
  },
  {
   "cell_type": "code",
   "execution_count": null,
   "metadata": {},
   "outputs": [],
   "source": [
    "def show_feature_imp(lgb_model, features_list):\n",
    "    # sorted(zip(clf.feature_importances_, X.columns), reverse=True)\n",
    "    feature_imp = pd.DataFrame(sorted(zip(lgb_model.feature_importance(), features_list)), columns=['Value','Feature'])\n",
    "\n",
    "    plt.figure(figsize=(10, 20))\n",
    "    sns.barplot(x=\"Value\", y=\"Feature\", data=feature_imp.sort_values(by=\"Value\", ascending=False))\n",
    "    plt.title('LightGBM Features (avg over folds)')\n",
    "    plt.tight_layout()\n",
    "    plt.show()\n"
   ]
  },
  {
   "cell_type": "markdown",
   "metadata": {},
   "source": [
    "### LOAD DATASET"
   ]
  },
  {
   "cell_type": "code",
   "execution_count": null,
   "metadata": {},
   "outputs": [],
   "source": [
    "X_train_vector =  pickle.load(open( f'{INPUT_PATH}/X_train.pkl', \"rb\" )) # It loads a vector with the folds"
   ]
  },
  {
   "cell_type": "code",
   "execution_count": null,
   "metadata": {},
   "outputs": [],
   "source": [
    "Y_train_vector = pickle.load(open( f'{INPUT_PATH}/Y_train.pkl', \"rb\" ))"
   ]
  },
  {
   "cell_type": "code",
   "execution_count": null,
   "metadata": {},
   "outputs": [],
   "source": [
    "X_val_vector = pickle.load(open( f'{INPUT_PATH}/X_val.pkl', \"rb\" )) # It loads a vector with the folds"
   ]
  },
  {
   "cell_type": "code",
   "execution_count": null,
   "metadata": {},
   "outputs": [],
   "source": [
    "Y_val_vector = pickle.load(open( f'{INPUT_PATH}/Y_val.pkl', \"rb\" )) # It loads a vector with the folds"
   ]
  },
  {
   "cell_type": "code",
   "execution_count": null,
   "metadata": {},
   "outputs": [],
   "source": [
    "features = X_train_vector[0].columns.tolist()"
   ]
  },
  {
   "cell_type": "code",
   "execution_count": null,
   "metadata": {},
   "outputs": [],
   "source": [
    "categorical_feature = ['item_id', 'cat_id', 'store_id']"
   ]
  },
  {
   "cell_type": "markdown",
   "metadata": {},
   "source": [
    "### TRAIN MODEL"
   ]
  },
  {
   "cell_type": "markdown",
   "metadata": {},
   "source": [
    "#### Set hyperparameters"
   ]
  },
  {
   "cell_type": "code",
   "execution_count": null,
   "metadata": {},
   "outputs": [],
   "source": [
    "# ======== General Parameters ======= #\n",
    "\n",
    "# Select the type of model to run at each iteration. gbtree or gblinear.\n",
    "boosting = 'gbtree'\n",
    "\n",
    "\n",
    "# Analogous to learning rate in GBM. \n",
    "# Typical final values to be used: 0.01-0.2\n",
    "eta = 0.01\n",
    "\n",
    "\n",
    "# Learning Task Parameters\n",
    "# This defines the loss function to be minimized.\n",
    "#\n",
    "# - reg:squarederror: regression with squared loss.\n",
    "# - count:poisson –poisson regression for count data, output mean of poisson distribution\n",
    "#    max_delta_step is set to 0.7 by default in poisson regression (used to safeguard optimization)\n",
    "\n",
    "# - survival:cox: Cox regression for right censored survival time data (negative values are considered right censored). Note that predictions are returned on the hazard ratio scale (i.e., as HR = exp(marginal_prediction) in the proportional hazard function h(t) = h0(t) * HR).\n",
    "objective  = 'reg:squarederror'\n",
    "\n",
    "\n",
    "# The metric to be used for validation data.\n",
    "# - rmse – root mean square error\n",
    "# - mae – mean absolute error\n",
    "# - poisson-nloglik: negative log-likelihood for Poisson regression\n",
    "# - rmsle: root mean square log error: Default metric of reg:squaredlogerror objective.\n",
    "#            This metric reduces errors generated by outliers in dataset. But because log function is employed, \n",
    "#            rmsle might output nan when prediction value is less than -1. \n",
    "#            See reg:squaredlogerror for other requirements.\n",
    "eval_metric = 'rmse'"
   ]
  },
  {
   "cell_type": "code",
   "execution_count": null,
   "metadata": {},
   "outputs": [],
   "source": [
    "model_param = dict()\n",
    "model_param = np.load(f'{HYPERPARAM_PATH}/{HYPERPARAM_NAME}.npy', allow_pickle=True).tolist()"
   ]
  },
  {
   "cell_type": "code",
   "execution_count": null,
   "metadata": {},
   "outputs": [],
   "source": [
    "model_param['max_depth'] = int(np.round(model_param['max_depth'],0))\n",
    "model_param['min_child_weight'] = int(np.round(model_param['min_child_weight'],0))\n",
    "model_param['num_leaves'] = int(np.round(model_param['num_leaves'],0))\n",
    "model_param['seed'] = SEED\n",
    "model_param['booster'] = boosting\n",
    "model_param['objective'] = objective\n",
    "model_param['n_estimators'] = N_ESTIMATORS\n",
    "model_param['num_threads'] = NJOBS"
   ]
  },
  {
   "cell_type": "code",
   "execution_count": null,
   "metadata": {},
   "outputs": [],
   "source": [
    "fit_params = {\n",
    "    \"num_boost_round\": 100_000,\n",
    "    \"early_stopping_rounds\": 50,\n",
    "    \"verbose_eval\": 100,\n",
    "}"
   ]
  },
  {
   "cell_type": "code",
   "execution_count": null,
   "metadata": {},
   "outputs": [],
   "source": [
    "models = train_lgb(\n",
    "    model_param, fit_params, X_train_vector, Y_train_vector, X_val_vector, Y_val_vector)"
   ]
  },
  {
   "cell_type": "markdown",
   "metadata": {},
   "source": [
    "### SAVE MODEL"
   ]
  },
  {
   "cell_type": "code",
   "execution_count": null,
   "metadata": {},
   "outputs": [],
   "source": [
    "pickle.dump(models, open(f'{MODEL_PATH}/{MODEL_NAME}.model', 'wb'))"
   ]
  },
  {
   "cell_type": "markdown",
   "metadata": {},
   "source": [
    "### SHOW FEATURES IMPORTANCE"
   ]
  },
  {
   "cell_type": "code",
   "execution_count": null,
   "metadata": {},
   "outputs": [],
   "source": [
    "show_feature_imp(models[0], features)"
   ]
  }
 ],
 "metadata": {
  "kernelspec": {
   "display_name": "boostenv",
   "language": "python",
   "name": "boostenv"
  },
  "language_info": {
   "codemirror_mode": {
    "name": "ipython",
    "version": 3
   },
   "file_extension": ".py",
   "mimetype": "text/x-python",
   "name": "python",
   "nbconvert_exporter": "python",
   "pygments_lexer": "ipython3",
   "version": "3.7.6"
  }
 },
 "nbformat": 4,
 "nbformat_minor": 2
}
