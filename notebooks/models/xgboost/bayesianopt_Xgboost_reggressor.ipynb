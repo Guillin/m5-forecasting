{
 "cells": [
  {
   "cell_type": "markdown",
   "metadata": {},
   "source": [
    "# XGBOOST - REGRESSOR - BAYESIAN OPTIMIZATION"
   ]
  },
  {
   "cell_type": "code",
   "execution_count": null,
   "metadata": {},
   "outputs": [],
   "source": [
    "import numpy as np\n",
    "from scipy.stats import uniform as sp_rand\n",
    "from sklearn import datasets\n",
    "import xgboost as xgb\n",
    "from xgboost.sklearn import XGBRegressor\n",
    "from bayes_opt import BayesianOptimization\n",
    "from bayes_opt.logger import JSONLogger\n",
    "from bayes_opt.event import Events\n",
    "from bayes_opt.util import load_logs\n",
    "import pandas as pd\n",
    "from datetime import datetime\n",
    "from time import time\n",
    "from sklearn.metrics import mean_squared_error\n",
    "import gc\n",
    "import pickle"
   ]
  },
  {
   "cell_type": "markdown",
   "metadata": {},
   "source": [
    "### GLOBAL VARIABLES"
   ]
  },
  {
   "cell_type": "code",
   "execution_count": null,
   "metadata": {},
   "outputs": [],
   "source": [
    "INPUT_PATH = '../../../data/train_test'\n",
    "OUTPUT_PATH = '../../../models/xgboost/hyperparameters'\n",
    "HYPERPARAM_NAME = 'best_hyperparam_xgb_regressor_r'\n",
    "LOG_NAME = 'bayesianopt_xgb_regressor_logs_r'\n",
    "SEED = 47\n",
    "NITER = 20\n",
    "N_ESTIMATORS = 1000 # It set the max number of estimators. \n",
    "                    # The real number will depend on early sopping round parameter\n",
    "\n",
    "ESR = 50            # early_stopping_rounds \n",
    "CV = 3\n",
    "SCORE = 'rmse'\n",
    "handlingnull = False\n",
    "NJOBS = -1\n",
    "USEGPU = False\n",
    "NRUN = 1"
   ]
  },
  {
   "cell_type": "markdown",
   "metadata": {},
   "source": [
    "### FUNCTIONS"
   ]
  },
  {
   "cell_type": "code",
   "execution_count": null,
   "metadata": {},
   "outputs": [],
   "source": [
    "def rmse(y_true, y_pred):\n",
    "    return np.sqrt(mean_squared_error(y_true, y_pred))"
   ]
  },
  {
   "cell_type": "code",
   "execution_count": null,
   "metadata": {},
   "outputs": [],
   "source": [
    "logger = JSONLogger(path=f'{OUTPUT_PATH}/{LOG_NAME}{NRUN}.json')"
   ]
  },
  {
   "cell_type": "markdown",
   "metadata": {},
   "source": [
    "### LOAD DATASET"
   ]
  },
  {
   "cell_type": "code",
   "execution_count": null,
   "metadata": {},
   "outputs": [],
   "source": [
    "X_train_vector = pickle.load(open( f'{INPUT_PATH}/X_train.pkl', \"rb\" )) # It loads a vector with the folds"
   ]
  },
  {
   "cell_type": "code",
   "execution_count": null,
   "metadata": {},
   "outputs": [],
   "source": [
    "Y_train_vector = pickle.load(open( f'{INPUT_PATH}/Y_train.pkl', \"rb\" )) "
   ]
  },
  {
   "cell_type": "code",
   "execution_count": null,
   "metadata": {},
   "outputs": [],
   "source": [
    "X_val_vector = pickle.load(open( f'{INPUT_PATH}/X_val.pkl', \"rb\" ))   # It loads a vector with the folds"
   ]
  },
  {
   "cell_type": "code",
   "execution_count": null,
   "metadata": {},
   "outputs": [],
   "source": [
    "Y_val_vector = pickle.load(open( f'{INPUT_PATH}/Y_val.pkl', \"rb\" )) # It loads a vector with the folds"
   ]
  },
  {
   "cell_type": "code",
   "execution_count": null,
   "metadata": {},
   "outputs": [],
   "source": [
    "FOLDS = len(X_train_vector)"
   ]
  },
  {
   "cell_type": "markdown",
   "metadata": {},
   "source": [
    "### TRAIN MODEL"
   ]
  },
  {
   "cell_type": "markdown",
   "metadata": {},
   "source": [
    "#### Set  hyperparameters "
   ]
  },
  {
   "cell_type": "code",
   "execution_count": null,
   "metadata": {},
   "outputs": [],
   "source": [
    "# ======== General Parameters ======= #\n",
    "\n",
    "# Select the type of model to run at each iteration. gbtree or gblinear.\n",
    "boosting = 'gbtree'\n",
    "\n",
    "\n",
    "# Analogous to learning rate in GBM. \n",
    "# Typical final values to be used: 0.01-0.2\n",
    "eta = 0.01\n",
    "\n",
    "\n",
    "# Learning Task Parameters\n",
    "# This defines the loss function to be minimized.\n",
    "#\n",
    "# - reg:squarederror: regression with squared loss.\n",
    "# - count:poisson –poisson regression for count data, output mean of poisson distribution\n",
    "#    max_delta_step is set to 0.7 by default in poisson regression (used to safeguard optimization)\n",
    "\n",
    "# - survival:cox: Cox regression for right censored survival time data (negative values are considered right censored). Note that predictions are returned on the hazard ratio scale (i.e., as HR = exp(marginal_prediction) in the proportional hazard function h(t) = h0(t) * HR).\n",
    "objective  = 'reg:squarederror'\n",
    "\n",
    "\n",
    "# The metric to be used for validation data.\n",
    "# - rmse – root mean square error\n",
    "# - mae – mean absolute error\n",
    "# - poisson-nloglik: negative log-likelihood for Poisson regression\n",
    "# - rmsle: root mean square log error: Default metric of reg:squaredlogerror objective.\n",
    "#            This metric reduces errors generated by outliers in dataset. But because log function is employed, \n",
    "#            rmsle might output nan when prediction value is less than -1. \n",
    "#            See reg:squaredlogerror for other requirements.\n",
    "eval_metric = 'rmse'"
   ]
  },
  {
   "cell_type": "markdown",
   "metadata": {},
   "source": [
    "[xgboost params](https://xgboost.readthedocs.io/en/latest/python/python_api.html)"
   ]
  },
  {
   "cell_type": "markdown",
   "metadata": {},
   "source": [
    "#### set search space"
   ]
  },
  {
   "cell_type": "code",
   "execution_count": null,
   "metadata": {},
   "outputs": [],
   "source": [
    "pds ={\n",
    "    # Minimal sum hessian in one leaf. Like min_data_in_leaf, \n",
    "    # it can be used to deal with over-fitting\n",
    "    # Default 1e-3\n",
    "    'min_child_weight':(1e-5, 1e4),\n",
    "    \n",
    "    # Minimum loss reduction required to make a further partition on a leaf node of the tree. \n",
    "    # The larger gamma is, the more conservative the algorithm will be\n",
    "    'gamma':(0, 5),\n",
    "    \n",
    "    # Subsample ratio of the training instances. Setting it to 0.5 means that XGBoost \n",
    "    # would randomly sample half of the training data prior to growing trees. and this will prevent overfitting. \n",
    "    # Subsampling will occur once in every boosting iteration.\n",
    "    'subsample':(0.5, 1),\n",
    "  \n",
    "    # is the subsample ratio of columns when constructing each tree. \n",
    "    # Subsampling occurs once for every tree constructed.\n",
    "    'colsample_bytree':(0.1, 1),\n",
    "  \n",
    "    # Maximum depth of a tree. \n",
    "    # Increasing this value will make the model more complex and more likely to overfit.\n",
    "    'max_depth': (3, 10),\n",
    "    \n",
    "    # L1 regularization term on weights. Increasing this value will make model more conservative.\n",
    "    'reg_alpha': (0,  100),\n",
    "\n",
    "    # L2 regularization term on weights. Increasing this value will make model more conservative.\n",
    "    'reg_lambda': (0, 100) \n",
    "}"
   ]
  },
  {
   "cell_type": "code",
   "execution_count": null,
   "metadata": {},
   "outputs": [],
   "source": [
    "def hyp_xgb(min_child_weight, gamma, subsample, colsample_bytree, max_depth, reg_alpha, reg_lambda):\n",
    "    \n",
    "    best_score = []\n",
    "\n",
    "    fit_params = {\n",
    "    'num_boost_round': N_ESTIMATORS,\n",
    "    'early_stopping_rounds': ESR,\n",
    "    'verbose_eval': False,\n",
    "    \n",
    "    }\n",
    "      \n",
    "    bst_params = {'boosting_type': boosting,\n",
    "              'objective': objective,\n",
    "              'n_estimators': N_ESTIMATORS,\n",
    "              'learning_rate':eta, \n",
    "              'eval_metric': eval_metric,\n",
    "              'seed':SEED,\n",
    "                  \n",
    "                } # Default parameters\n",
    "    \n",
    "    \n",
    "   \n",
    "    bst_params['min_child_weight'] = min_child_weight\n",
    "    bst_params['gamma'] = gamma\n",
    "    bst_params['max_depth'] = int(round(max_depth))\n",
    "    bst_params['subsample'] = subsample\n",
    "    bst_params['colsample_bytree'] = colsample_bytree\n",
    "    bst_params['reg_alpha'] = reg_alpha\n",
    "    bst_params['reg_lambda'] = reg_lambda\n",
    "    \n",
    "    \n",
    "\n",
    "    for fold in range(FOLDS):\n",
    "        \n",
    "        X_trn, X_val = X_train_vector[fold].values, X_val_vector[fold].values\n",
    "        y_trn, y_val = Y_train_vector[fold].values, Y_val_vector[fold].values\n",
    "        \n",
    "\n",
    "        # Create lgb datasets\n",
    "        train_set = xgb.DMatrix(\n",
    "            X_trn,\n",
    "            label=y_trn\n",
    "        )\n",
    "        val_set = xgb.DMatrix(\n",
    "            X_val,\n",
    "            label=y_val\n",
    "        )\n",
    "\n",
    "\n",
    "        evallist  = [(val_set,'eval'), (train_set,'train')]\n",
    "        \n",
    "        model = xgb.train(\n",
    "            bst_params,\n",
    "            train_set,\n",
    "            evals=evallist,\n",
    "            **fit_params,\n",
    "        )\n",
    "\n",
    "\n",
    "        best_score.append(model.best_score['valid'][metric])\n",
    "\n",
    "        del X_trn, X_val, y_trn, y_val\n",
    "\n",
    "        gc.collect()\n",
    "    \n",
    "  \n",
    "       \n",
    "    \n",
    "    # Extract the best score\n",
    "    score_avg = np.mean(best_score)\n",
    "    \n",
    "    # Loss must be minimized\n",
    "    loss = - score_avg\n",
    "      \n",
    "\n",
    "    return loss"
   ]
  },
  {
   "cell_type": "code",
   "execution_count": null,
   "metadata": {},
   "outputs": [],
   "source": [
    "# Surrogate model\n",
    "optimizer = BayesianOptimization(hyp_xgb,pds,random_state=7)"
   ]
  },
  {
   "cell_type": "code",
   "execution_count": null,
   "metadata": {},
   "outputs": [],
   "source": [
    "optimizer.subscribe(Events.OPTIMIZATION_STEP, logger)"
   ]
  },
  {
   "cell_type": "code",
   "execution_count": null,
   "metadata": {},
   "outputs": [],
   "source": [
    "# Optimize\n",
    "optimizer.maximize(init_points=5, n_iter=NITER)"
   ]
  },
  {
   "cell_type": "markdown",
   "metadata": {},
   "source": [
    "#### Best parameter"
   ]
  },
  {
   "cell_type": "code",
   "execution_count": null,
   "metadata": {},
   "outputs": [],
   "source": [
    "load_logs(optimizer, logs=[f'{OUTPUT_PATH}/{LOG_NAME}{NRUN}.json'])"
   ]
  },
  {
   "cell_type": "code",
   "execution_count": null,
   "metadata": {},
   "outputs": [],
   "source": [
    "optimizer.max"
   ]
  },
  {
   "cell_type": "code",
   "execution_count": null,
   "metadata": {},
   "outputs": [],
   "source": [
    "best_params = optimizer.max['params']"
   ]
  },
  {
   "cell_type": "code",
   "execution_count": null,
   "metadata": {},
   "outputs": [],
   "source": [
    "best_params['n_estimators'] = N_ESTIMATORS"
   ]
  },
  {
   "cell_type": "code",
   "execution_count": null,
   "metadata": {},
   "outputs": [],
   "source": [
    "best_params "
   ]
  },
  {
   "cell_type": "markdown",
   "metadata": {},
   "source": [
    "### SAVE BEST HYPERPARAMETER"
   ]
  },
  {
   "cell_type": "code",
   "execution_count": null,
   "metadata": {},
   "outputs": [],
   "source": [
    "np.save(f'{OUTPUT_PATH}/{HYPERPARAM_NAME}{NRUN}.npy', best_params)"
   ]
  }
 ],
 "metadata": {
  "kernelspec": {
   "display_name": "boostenv",
   "language": "python",
   "name": "boostenv"
  },
  "language_info": {
   "codemirror_mode": {
    "name": "ipython",
    "version": 3
   },
   "file_extension": ".py",
   "mimetype": "text/x-python",
   "name": "python",
   "nbconvert_exporter": "python",
   "pygments_lexer": "ipython3",
   "version": "3.7.6"
  }
 },
 "nbformat": 4,
 "nbformat_minor": 2
}
