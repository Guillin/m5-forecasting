{
 "cells": [
  {
   "cell_type": "markdown",
   "metadata": {},
   "source": [
    "# TEST CATBOOST REGRESSOR"
   ]
  },
  {
   "cell_type": "code",
   "execution_count": 1,
   "metadata": {},
   "outputs": [],
   "source": [
    "import numpy as np\n",
    "from scipy.stats import uniform as sp_rand\n",
    "from catboost import CatBoostRegressor\n",
    "import pandas as pd\n",
    "from datetime import datetime\n",
    "from time import time\n",
    "import gc\n",
    "import os\n",
    "import pickle"
   ]
  },
  {
   "cell_type": "code",
   "execution_count": 2,
   "metadata": {},
   "outputs": [],
   "source": [
    "import warnings\n",
    "warnings.filterwarnings('ignore')"
   ]
  },
  {
   "cell_type": "markdown",
   "metadata": {},
   "source": [
    "### GLOBAL VARIABLES"
   ]
  },
  {
   "cell_type": "code",
   "execution_count": 3,
   "metadata": {},
   "outputs": [],
   "source": [
    "INPUT_PATH = '../../../data'\n",
    "OUTPUT_PATH = '../../../data/submission'\n",
    "MODEL_PATH = '../../../models/catboost'\n",
    "FEATURES_PATH = '../../../data/features'\n",
    "FEATURES_NAME = 'features_v001_info'\n",
    "OUTPUT_NAME = 'submission_003'\n",
    "MODEL_NAME = 'catboost_reg_001'\n",
    "SEED = 47\n",
    "CV = 3\n",
    "SCORE = 'RMSE'\n",
    "DAYS_PRED = 28\n",
    "handlingnull = False\n",
    "NJOBS = -1\n",
    "USEGPU = True"
   ]
  },
  {
   "cell_type": "markdown",
   "metadata": {},
   "source": [
    "### FUNCTIONS"
   ]
  },
  {
   "cell_type": "code",
   "execution_count": 4,
   "metadata": {},
   "outputs": [],
   "source": [
    "def on_kaggle():\n",
    "    return \"KAGGLE_KERNEL_RUN_TYPE\" in os.environ"
   ]
  },
  {
   "cell_type": "code",
   "execution_count": 5,
   "metadata": {},
   "outputs": [],
   "source": [
    "def make_submission(test, submission):\n",
    "    preds = test[[\"id\", \"date\", \"demand\"]]\n",
    "    preds = preds.pivot(index=\"id\", columns=\"date\", values=\"demand\").reset_index()\n",
    "    preds.columns = [\"id\"] + [\"F\" + str(d + 1) for d in range(DAYS_PRED)]\n",
    "\n",
    "    vals = submission[[\"id\"]].merge(preds, how=\"inner\", on=\"id\")\n",
    "    evals = submission[submission[\"id\"].str.endswith(\"evaluation\")]\n",
    "    final = pd.concat([vals, evals])\n",
    "\n",
    "    assert final.drop(\"id\", axis=1).isnull().sum().sum() == 0\n",
    "    assert final[\"id\"].equals(submission[\"id\"])\n",
    "\n",
    "    if on_kaggle():\n",
    "        final.to_csv(\"submission.csv\", index=False)\n",
    "    else:\n",
    "        final.to_csv(f\"{OUTPUT_PATH}/{OUTPUT_NAME}.csv\", index=False)"
   ]
  },
  {
   "cell_type": "markdown",
   "metadata": {},
   "source": [
    "### LOAD DATA"
   ]
  },
  {
   "cell_type": "code",
   "execution_count": 6,
   "metadata": {},
   "outputs": [],
   "source": [
    "X_test =  pickle.load(open( f'{INPUT_PATH}/train_test/X_test.pkl', \"rb\" )) "
   ]
  },
  {
   "cell_type": "code",
   "execution_count": 7,
   "metadata": {},
   "outputs": [],
   "source": [
    "id_date = pd.read_csv(f'{INPUT_PATH}/train_test/id_date.csv')"
   ]
  },
  {
   "cell_type": "code",
   "execution_count": 21,
   "metadata": {},
   "outputs": [],
   "source": [
    "submission = pd.read_csv(f'{INPUT_PATH}/raw/sample_submission.csv')"
   ]
  },
  {
   "cell_type": "code",
   "execution_count": 9,
   "metadata": {},
   "outputs": [],
   "source": [
    "features = pd.read_csv(f'{INPUT_PATH}/train_test/{FEATURES_NAME}.csv', index_col=False)['feature'].tolist()"
   ]
  },
  {
   "cell_type": "markdown",
   "metadata": {},
   "source": [
    "### LOAD MODEL"
   ]
  },
  {
   "cell_type": "code",
   "execution_count": 11,
   "metadata": {},
   "outputs": [],
   "source": [
    "models = pickle.load(open(f'{MODEL_PATH}/{MODEL_NAME}.model', 'rb'))"
   ]
  },
  {
   "cell_type": "markdown",
   "metadata": {},
   "source": [
    "### SCORING"
   ]
  },
  {
   "cell_type": "code",
   "execution_count": 12,
   "metadata": {},
   "outputs": [],
   "source": [
    "nmodels = len(models)"
   ]
  },
  {
   "cell_type": "code",
   "execution_count": 13,
   "metadata": {},
   "outputs": [],
   "source": [
    "imp_type = \"gain\"\n",
    "importances = np.zeros(X_test.shape[1])\n",
    "y_pred = np.zeros(X_test.shape[0])\n",
    "\n",
    "for model in models:\n",
    "    y_pred += model.predict(X_test)\n",
    "    importances += model.feature_importances_\n",
    "\n",
    "y_pred = y_pred / nmodels\n",
    "importances = importances / nmodels"
   ]
  },
  {
   "cell_type": "markdown",
   "metadata": {},
   "source": [
    "### SAVE RESULTS"
   ]
  },
  {
   "cell_type": "code",
   "execution_count": 22,
   "metadata": {},
   "outputs": [],
   "source": [
    "make_submission(id_date.assign(demand=y_pred), submission)    "
   ]
  }
 ],
 "metadata": {
  "kernelspec": {
   "display_name": "catboostenv",
   "language": "python",
   "name": "catboostenv"
  },
  "language_info": {
   "codemirror_mode": {
    "name": "ipython",
    "version": 3
   },
   "file_extension": ".py",
   "mimetype": "text/x-python",
   "name": "python",
   "nbconvert_exporter": "python",
   "pygments_lexer": "ipython3",
   "version": "3.8.2"
  }
 },
 "nbformat": 4,
 "nbformat_minor": 2
}
