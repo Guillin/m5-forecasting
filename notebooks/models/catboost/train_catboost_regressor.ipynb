{
 "cells": [
  {
   "cell_type": "markdown",
   "metadata": {},
   "source": [
    "# TRAIN CATBOOST REGRESSOR"
   ]
  },
  {
   "cell_type": "code",
   "execution_count": 1,
   "metadata": {},
   "outputs": [],
   "source": [
    "import numpy as np\n",
    "from scipy.stats import uniform as sp_rand\n",
    "from catboost import CatBoostRegressor\n",
    "import pandas as pd\n",
    "from datetime import datetime\n",
    "from time import time\n",
    "import gc\n",
    "import pickle"
   ]
  },
  {
   "cell_type": "code",
   "execution_count": 28,
   "metadata": {
    "collapsed": true
   },
   "outputs": [
    {
     "ename": "ModuleNotFoundError",
     "evalue": "No module named 'matplotlib'",
     "output_type": "error",
     "traceback": [
      "\u001b[0;31m---------------------------------------------------------------------------\u001b[0m",
      "\u001b[0;31mModuleNotFoundError\u001b[0m                       Traceback (most recent call last)",
      "\u001b[0;32m<ipython-input-28-2a34e7750742>\u001b[0m in \u001b[0;36m<module>\u001b[0;34m\u001b[0m\n\u001b[0;32m----> 1\u001b[0;31m \u001b[0;32mimport\u001b[0m \u001b[0mmatplotlib\u001b[0m\u001b[0;34m.\u001b[0m\u001b[0mpyplot\u001b[0m \u001b[0;32mas\u001b[0m \u001b[0mplt\u001b[0m\u001b[0;34m\u001b[0m\u001b[0;34m\u001b[0m\u001b[0m\n\u001b[0m\u001b[1;32m      2\u001b[0m \u001b[0;32mimport\u001b[0m \u001b[0mseaborn\u001b[0m \u001b[0;32mas\u001b[0m \u001b[0msns\u001b[0m\u001b[0;34m\u001b[0m\u001b[0;34m\u001b[0m\u001b[0m\n",
      "\u001b[0;31mModuleNotFoundError\u001b[0m: No module named 'matplotlib'"
     ]
    }
   ],
   "source": [
    "import matplotlib.pyplot as plt\n",
    "import seaborn as sns"
   ]
  },
  {
   "cell_type": "markdown",
   "metadata": {},
   "source": [
    "### GLOBAL VARIABLES"
   ]
  },
  {
   "cell_type": "code",
   "execution_count": 15,
   "metadata": {},
   "outputs": [],
   "source": [
    "INPUT_PATH = '../../../data/train_test'\n",
    "FEATURES_PATH = '../../../data/features'\n",
    "FEATURES_NAME = 'features_v001_info'\n",
    "HYPERPARAM_PATH = '../../../models/catboost/hyperparameters'\n",
    "HYPERPARAM_NAME = 'best_hyperparam_catboost_regressor_r1'\n",
    "MODEL_PATH = '../../../models/catboost'\n",
    "MODEL_NAME = 'catboost_reg_001'\n",
    "SEED = 47\n",
    "NITER = 10\n",
    "N_ESTIMATORS = 1000 # It set the max number of estimators. \n",
    "                    # The real number will depend on early sopping round parameter\n",
    "\n",
    "ESR = 50            # early_stopping_rounds \n",
    "CV = 3\n",
    "SCORE = 'RMSE'\n",
    "handlingnull = False\n",
    "NJOBS = -1\n",
    "USEGPU = True\n",
    "TYPE_EVAL = 'SLIDING' # Unique posible values : SLIDING or EXPANDING"
   ]
  },
  {
   "cell_type": "markdown",
   "metadata": {},
   "source": [
    "### FUNCTIONS"
   ]
  },
  {
   "cell_type": "code",
   "execution_count": 3,
   "metadata": {},
   "outputs": [],
   "source": [
    "def train_catboost(bst_params, X_train, Y_train, X_val, Y_val, categorical_feature=None, type_eval='SLIDING'):\n",
    "    \n",
    "    models = []\n",
    "\n",
    "    if type_eval == 'EXPANDING':\n",
    "\n",
    "        if categorical_feature is None:\n",
    "            categorical_feature = np.where(X_train.dtypes != np.float)[0]\n",
    "       \n",
    "        \n",
    "        X_train.fillna(-9999, inplace=True)\n",
    "        X_val.fillna(-9999, inplace=True)\n",
    "        \n",
    "        model = None\n",
    "        \n",
    "        if USEGPU:\n",
    "            model=CatBoostRegressor(**bst_params, task_type=\"GPU\")\n",
    "        else:\n",
    "            model=CatBoostRegressor(**bst_params)\n",
    "\n",
    "        model.fit(X_train, Y_train, cat_features=categorical_feature, eval_set=(X_val, Y_val), plot=True, verbose=10)\n",
    "        models.append(model)\n",
    "        gc.collect()\n",
    "\n",
    "    elif type_eval == 'SLIDING':\n",
    "\n",
    "        FOLDS = len(X_train)\n",
    "\n",
    "        for fold in range(FOLDS):\n",
    "            print(f\"\\n----- Fold: ({fold + 1} / {FOLDS}) -----\\n\")\n",
    "            X_trn, X_vl = X_train[fold], X_val[fold]\n",
    "            y_trn, y_vl = Y_train[fold], Y_val[fold]\n",
    "            \n",
    "            X_trn.fillna(-9999, inplace=True)\n",
    "            X_vl.fillna(-9999, inplace=True)\n",
    "\n",
    "            if categorical_feature is None:\n",
    "                categorical_feature = np.where(X_trn.dtypes != np.float)[0]\n",
    "            \n",
    "            \n",
    "            model = None\n",
    "            if USEGPU:\n",
    "                model=CatBoostRegressor(**bst_params, task_type=\"GPU\")\n",
    "            else:\n",
    "                model=CatBoostRegressor(**bst_params)\n",
    "            \n",
    "            model.fit(X_trn, y_trn, cat_features=categorical_feature, eval_set=(X_vl, y_vl), plot=False, verbose=False)\n",
    "            \n",
    "\n",
    "\n",
    "            models.append(model)\n",
    "\n",
    "            del X_trn, X_vl, y_trn, y_vl\n",
    "            gc.collect()\n",
    "    else:\n",
    "        raise Exception('type_eval should be SLIDING or EXPANDING. The value of type_eval was: {}'.format(type_eval))\n",
    "\n",
    "    return models"
   ]
  },
  {
   "cell_type": "code",
   "execution_count": 4,
   "metadata": {},
   "outputs": [],
   "source": [
    "def load_hyperparameters(path=''):\n",
    "    # ======== Defaul Booster Parameters ======== # \n",
    "\n",
    "    # The maximum number of trees that can be built when solving machine learning problems. Fewer may be used.\n",
    "    iterations=500 \n",
    "\n",
    "    # used for reducing the gradient step. It affects the overall \n",
    "    # time of training: the smaller the value, the more iterations are required for training.\n",
    "    learning_rate=0.03\n",
    "\n",
    "    # Depth of the tree. Can be any integer up to 32. Good values in the range 1 - 10.\n",
    "    depth=6 \n",
    "\n",
    "    # try different values for the regularizer to find the best possible. Any positive values are allowed.\n",
    "    l2_leaf_reg=3 \n",
    "\n",
    "    # For 2-class classification use 'LogLoss' or 'CrossEntropy'. For multiclass use 'MultiClass'.\n",
    "    loss_function=SCORE\n",
    "\n",
    "    # The number of splits for numerical features. Allowed values are integers from 1 to 255 inclusively.\n",
    "    border_count=32 \n",
    "\n",
    "\n",
    "    \n",
    "    objective = \"Poisson\"\n",
    "    \n",
    "    model_param = dict()\n",
    "    \n",
    "\n",
    "    try:\n",
    "        model_param = np.load(path, allow_pickle=True).tolist()\n",
    "        model_param['depth'] = int(np.round(model_param['depth'],0))\n",
    "        model_param['border_count'] = int(np.round(model_param['border_count'],0))\n",
    "        model_param['learning_rate'] = boosting\n",
    "        model_param['iterations'] = int(np.round(model_param['iterations'],0))\n",
    "        \n",
    "    except:\n",
    "        \n",
    "        model_param['depth'] = depth\n",
    "        model_param['l2_leaf_reg'] = l2_leaf_reg\n",
    "        model_param['loss_function'] = loss_function\n",
    "        model_param['border_count'] = border_count\n",
    "        model_param['iterations'] = iterations\n",
    "        model_param['learning_rate'] = learning_rate\n",
    "        #model_param['n_estimators'] = N_ESTIMATORS\n",
    "        #model_param['num_threads'] = NJOBS\n",
    "        print('Hyperparameters not found or inappropriate params. Setting up defaul hyperparameters')\n",
    "        \n",
    "    \n",
    "    model_param['objective'] = objective\n",
    "    model_param['random_seed'] = SEED\n",
    "    model_param['thread_count'] = NJOBS\n",
    "    \n",
    "    \n",
    "    return model_param\n",
    "    "
   ]
  },
  {
   "cell_type": "code",
   "execution_count": 26,
   "metadata": {},
   "outputs": [],
   "source": [
    "def show_feature_imp(catboost_model, features_list):\n",
    "    # sorted(zip(clf.feature_importances_, X.columns), reverse=True)\n",
    "    feature_imp = pd.DataFrame(sorted(zip(catboost_model.feature_importances_, features_list)), columns=['Value','Feature'])\n",
    "\n",
    "    plt.figure(figsize=(10, 20))\n",
    "    sns.barplot(x=\"Value\", y=\"Feature\", data=feature_imp.sort_values(by=\"Value\", ascending=False))\n",
    "    plt.title('CatBoost Features (avg over folds)')\n",
    "    plt.tight_layout()\n",
    "    plt.show()\n"
   ]
  },
  {
   "cell_type": "markdown",
   "metadata": {},
   "source": [
    "### LOAD DATASET"
   ]
  },
  {
   "cell_type": "code",
   "execution_count": 6,
   "metadata": {},
   "outputs": [],
   "source": [
    "X_train_vector =  pickle.load(open( f'{INPUT_PATH}/X_train.pkl', \"rb\" )) # It loads a vector with the folds"
   ]
  },
  {
   "cell_type": "code",
   "execution_count": 7,
   "metadata": {},
   "outputs": [],
   "source": [
    "Y_train_vector = pickle.load(open( f'{INPUT_PATH}/Y_train.pkl', \"rb\" )) # It loads a vector with the folds"
   ]
  },
  {
   "cell_type": "code",
   "execution_count": 8,
   "metadata": {},
   "outputs": [],
   "source": [
    "X_val_vector = pickle.load(open( f'{INPUT_PATH}/X_val.pkl', \"rb\" ))  # It loads a vector with the folds"
   ]
  },
  {
   "cell_type": "code",
   "execution_count": 9,
   "metadata": {},
   "outputs": [],
   "source": [
    "Y_val_vector = pickle.load(open( f'{INPUT_PATH}/Y_val.pkl', \"rb\" )) # It loads a vector with the folds"
   ]
  },
  {
   "cell_type": "code",
   "execution_count": 10,
   "metadata": {},
   "outputs": [],
   "source": [
    "features = pd.read_csv(f'{INPUT_PATH}/{FEATURES_NAME}.csv', index_col=False)"
   ]
  },
  {
   "cell_type": "code",
   "execution_count": 11,
   "metadata": {},
   "outputs": [],
   "source": [
    "categorical_feature = [0,1,2,3,4,5]"
   ]
  },
  {
   "cell_type": "markdown",
   "metadata": {},
   "source": [
    "### TRAIN MODEL"
   ]
  },
  {
   "cell_type": "markdown",
   "metadata": {},
   "source": [
    "#### Set hyperparameters"
   ]
  },
  {
   "cell_type": "code",
   "execution_count": 12,
   "metadata": {},
   "outputs": [
    {
     "name": "stdout",
     "output_type": "stream",
     "text": [
      "Hyperparameters not found or inappropriate params. Setting up defaul hyperparameters\n",
      "{'depth': 6, 'l2_leaf_reg': 3, 'loss_function': 'RMSE', 'border_count': 32, 'iterations': 500, 'learning_rate': 0.03, 'objective': 'Poisson', 'random_seed': 47, 'thread_count': -1}\n"
     ]
    }
   ],
   "source": [
    "model_param = load_hyperparameters(f'{HYPERPARAM_PATH}/{HYPERPARAM_NAME}.npy')\n",
    "print(model_param)"
   ]
  },
  {
   "cell_type": "code",
   "execution_count": 13,
   "metadata": {},
   "outputs": [
    {
     "name": "stdout",
     "output_type": "stream",
     "text": [
      "\n",
      "----- Fold: (1 / 3) -----\n",
      "\n",
      "\n",
      "----- Fold: (2 / 3) -----\n",
      "\n",
      "\n",
      "----- Fold: (3 / 3) -----\n",
      "\n"
     ]
    }
   ],
   "source": [
    "models = train_catboost(model_param, X_train_vector, Y_train_vector, \n",
    "                        X_val_vector, Y_val_vector, categorical_feature=categorical_feature, \n",
    "                        type_eval='SLIDING')"
   ]
  },
  {
   "cell_type": "markdown",
   "metadata": {},
   "source": [
    "### SAVE MODEL"
   ]
  },
  {
   "cell_type": "code",
   "execution_count": 16,
   "metadata": {},
   "outputs": [],
   "source": [
    "pickle.dump(models, open(f'{MODEL_PATH}/{MODEL_NAME}.model', 'wb'))"
   ]
  },
  {
   "cell_type": "markdown",
   "metadata": {},
   "source": [
    "### SHOW FEATURES IMPORTANCE"
   ]
  },
  {
   "cell_type": "code",
   "execution_count": null,
   "metadata": {},
   "outputs": [],
   "source": [
    "show_feature_imp(models[1], features.feature)"
   ]
  }
 ],
 "metadata": {
  "kernelspec": {
   "display_name": "catboostenv",
   "language": "python",
   "name": "catboostenv"
  },
  "language_info": {
   "codemirror_mode": {
    "name": "ipython",
    "version": 3
   },
   "file_extension": ".py",
   "mimetype": "text/x-python",
   "name": "python",
   "nbconvert_exporter": "python",
   "pygments_lexer": "ipython3",
   "version": "3.8.2"
  }
 },
 "nbformat": 4,
 "nbformat_minor": 2
}
