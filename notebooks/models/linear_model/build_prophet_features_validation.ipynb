{
 "cells": [
  {
   "cell_type": "code",
   "execution_count": 1,
   "metadata": {},
   "outputs": [
    {
     "name": "stderr",
     "output_type": "stream",
     "text": [
      "/home/glissa/.local/lib/python3.7/site-packages/ipykernel_launcher.py:4: FutureWarning: The pandas.datetime class is deprecated and will be removed from pandas in a future version. Import from datetime module instead.\n",
      "  after removing the cwd from sys.path.\n"
     ]
    }
   ],
   "source": [
    "import pandas as pd\n",
    "import numpy as np\n",
    "from pandas import read_csv\n",
    "from pandas import datetime\n",
    "from matplotlib import pyplot as plt\n",
    "from pandas import Series\n",
    "from sklearn.metrics import mean_squared_error\n",
    "from datetime import datetime\n",
    "from ipywidgets import IntProgress"
   ]
  },
  {
   "cell_type": "code",
   "execution_count": 2,
   "metadata": {},
   "outputs": [
    {
     "name": "stderr",
     "output_type": "stream",
     "text": [
      "Importing plotly failed. Interactive plots will not work.\n"
     ]
    }
   ],
   "source": [
    "from math import sqrt\n",
    "from multiprocessing import cpu_count\n",
    "from joblib import Parallel\n",
    "from joblib import delayed\n",
    "from warnings import catch_warnings\n",
    "from warnings import filterwarnings\n",
    "from fbprophet import Prophet"
   ]
  },
  {
   "cell_type": "code",
   "execution_count": 3,
   "metadata": {},
   "outputs": [],
   "source": [
    "import pickle"
   ]
  },
  {
   "cell_type": "code",
   "execution_count": 4,
   "metadata": {},
   "outputs": [],
   "source": [
    "from tqdm import tqdm_notebook"
   ]
  },
  {
   "cell_type": "code",
   "execution_count": 5,
   "metadata": {},
   "outputs": [],
   "source": [
    "import warnings\n",
    "warnings.filterwarnings('ignore')"
   ]
  },
  {
   "cell_type": "markdown",
   "metadata": {},
   "source": [
    "### GLOBAL VARIABLES"
   ]
  },
  {
   "cell_type": "code",
   "execution_count": 6,
   "metadata": {},
   "outputs": [],
   "source": [
    "INPUT_PATH = '../../../data/train_test'\n",
    "OUTPUT_PATH = '../../../data/train_test'\n",
    "DAYS_PRED = 28"
   ]
  },
  {
   "cell_type": "markdown",
   "metadata": {},
   "source": [
    "### FUNCTIONS"
   ]
  },
  {
   "cell_type": "code",
   "execution_count": 7,
   "metadata": {},
   "outputs": [],
   "source": [
    "def rmse(y_true, y_pred):\n",
    "    return np.sqrt(mean_squared_error(y_true, y_pred))"
   ]
  },
  {
   "cell_type": "code",
   "execution_count": 8,
   "metadata": {},
   "outputs": [],
   "source": [
    "# score a model, return None on failure\n",
    "def score_model(train, cfg, debug=False):\n",
    "    result = None\n",
    "    \n",
    "\n",
    "    m = Prophet(**cfg)\n",
    "\n",
    "\n",
    "    # show all warnings and fail on exception if debugging\n",
    "    if debug:\n",
    "        m.fit(train)\n",
    "\n",
    "        future = m.make_future_dataframe(periods=DAYS_PRED)\n",
    "\n",
    "        forecast = m.predict(future)\n",
    "\n",
    "        y_hat = forecast.iloc[:,-1:]\n",
    "\n",
    "        y_hat = [i[0] for i in y_hat.values]\n",
    "\n",
    "\n",
    "    else:\n",
    "        # one failure during model validation suggests an unstable config\n",
    "        try:\n",
    "            # never show warnings when grid searching, too noisy\n",
    "            with catch_warnings():\n",
    "                filterwarnings(\"ignore\")\n",
    "\n",
    "                m.fit(train)\n",
    "                future = m.make_future_dataframe(periods=DAYS_PRED)\n",
    "\n",
    "                forecast = m.predict(future)\n",
    "\n",
    "                y_hat = forecast.iloc[:,-1:]\n",
    "\n",
    "                y_hat = [i[0] for i in y_hat.values]\n",
    "        except:\n",
    "            y_hat = None\n",
    "    \n",
    "        \n",
    "        \n",
    "    return y_hat"
   ]
  },
  {
   "cell_type": "code",
   "execution_count": 9,
   "metadata": {},
   "outputs": [],
   "source": [
    "# score a model, return None on failure\n",
    "def score_model(train, cfg, period=DAYS_PRED):\n",
    "    result = None\n",
    "    \n",
    "\n",
    "    m = Prophet(**cfg)\n",
    "\n",
    "\n",
    "    # show all warnings and fail on exception if debugging\n",
    "    with catch_warnings():\n",
    "        filterwarnings(\"ignore\")\n",
    "\n",
    "        m.fit(train)\n",
    "        future = m.make_future_dataframe(periods=period)\n",
    "\n",
    "        forecast = m.predict(future)\n",
    "\n",
    "\n",
    "    return forecast"
   ]
  },
  {
   "cell_type": "markdown",
   "metadata": {},
   "source": [
    "### LOAD DATASET"
   ]
  },
  {
   "cell_type": "code",
   "execution_count": 10,
   "metadata": {},
   "outputs": [],
   "source": [
    "X_train = pd.read_pickle(f'{INPUT_PATH}/X_train_agg.pkl')\n",
    "X_val = pd.read_pickle(f'{INPUT_PATH}/X_val_agg.pkl')\n",
    "y_train = pd.read_pickle(f'{INPUT_PATH}/Y_train_agg.pkl')\n",
    "y_val = pd.read_pickle(f'{INPUT_PATH}/Y_val_agg.pkl')"
   ]
  },
  {
   "cell_type": "code",
   "execution_count": 11,
   "metadata": {},
   "outputs": [],
   "source": [
    "X_train = X_train.join(y_train)\n",
    "X_val = X_val.join(y_val)"
   ]
  },
  {
   "cell_type": "code",
   "execution_count": 12,
   "metadata": {},
   "outputs": [],
   "source": [
    "level = 'state_id'\n",
    "features = ['date', 'demand']\n",
    "y_true = 'demand'"
   ]
  },
  {
   "cell_type": "markdown",
   "metadata": {},
   "source": [
    "## TRAIN MODEL"
   ]
  },
  {
   "cell_type": "code",
   "execution_count": 13,
   "metadata": {},
   "outputs": [],
   "source": [
    "cfg_prophet = dict()"
   ]
  },
  {
   "cell_type": "code",
   "execution_count": 14,
   "metadata": {},
   "outputs": [],
   "source": [
    "cfg_prophet['yearly_seasonality'] = True\n",
    "cfg_prophet['daily_seasonality'] = False\n",
    "cfg_prophet['seasonality_prior_scale'] = 0.1"
   ]
  },
  {
   "cell_type": "code",
   "execution_count": 15,
   "metadata": {},
   "outputs": [],
   "source": [
    "features_prophet = ['ds', 'trend', 'yhat_lower', 'yhat_upper', 'weekly',  'yearly',  'yhat']"
   ]
  },
  {
   "cell_type": "code",
   "execution_count": 17,
   "metadata": {},
   "outputs": [
    {
     "data": {
      "application/vnd.jupyter.widget-view+json": {
       "model_id": "48bc8ddb140a473c848a8e0bc25157fb",
       "version_major": 2,
       "version_minor": 0
      },
      "text/plain": [
       "HBox(children=(FloatProgress(value=0.0, max=3.0), HTML(value='')))"
      ]
     },
     "metadata": {},
     "output_type": "display_data"
    },
    {
     "name": "stdout",
     "output_type": "stream",
     "text": [
      "\n"
     ]
    }
   ],
   "source": [
    "forecast_train = pd.DataFrame()\n",
    "forecast_val = pd.DataFrame()\n",
    "errors = []\n",
    "for idx in tqdm_notebook(X_train[level].unique()):\n",
    "    train = X_train[X_train[level] == idx][features]\n",
    "    test = X_val[X_val[level] == idx][y_true].tolist()\n",
    "    \n",
    "\n",
    "    train.columns = ['ds', 'y']\n",
    "    \n",
    "    forecast = score_model(train, cfg_prophet)\n",
    "    forecast = forecast[features_prophet]\n",
    "    forecast[level] = idx \n",
    "    forecast_train = forecast_train.append(forecast[:-DAYS_PRED])\n",
    "    forecast_val = forecast_val.append(forecast[-DAYS_PRED:])\n",
    "      \n",
    "   \n",
    "    \n",
    "    errors.append(rmse(test,forecast.iloc[-DAYS_PRED:,-1]))\n"
   ]
  },
  {
   "cell_type": "code",
   "execution_count": 18,
   "metadata": {},
   "outputs": [
    {
     "data": {
      "text/plain": [
       "[1.5009797714424193, 0.2662139920592784, 0.6217643243638389]"
      ]
     },
     "execution_count": 18,
     "metadata": {},
     "output_type": "execute_result"
    }
   ],
   "source": [
    "errors"
   ]
  },
  {
   "cell_type": "code",
   "execution_count": 19,
   "metadata": {},
   "outputs": [],
   "source": [
    "del X_train, X_val, y_train, y_val"
   ]
  },
  {
   "cell_type": "markdown",
   "metadata": {},
   "source": [
    "### RE-LOAD DATASET"
   ]
  },
  {
   "cell_type": "code",
   "execution_count": 20,
   "metadata": {},
   "outputs": [],
   "source": [
    "X_train = pd.read_pickle(f'{INPUT_PATH}/X_train.pkl')\n",
    "X_val = pd.read_pickle(f'{INPUT_PATH}/X_val.pkl')\n",
    "y_train = pd.read_pickle(f'{INPUT_PATH}/Y_train.pkl')\n",
    "y_val = pd.read_pickle(f'{INPUT_PATH}/Y_val.pkl')"
   ]
  },
  {
   "cell_type": "markdown",
   "metadata": {},
   "source": [
    "### MERGE DATASET"
   ]
  },
  {
   "cell_type": "code",
   "execution_count": 22,
   "metadata": {},
   "outputs": [],
   "source": [
    "X_train = pd.merge(X_train, forecast_train, how='inner', left_on=['state_id', 'date'], right_on=['state_id', 'ds'])"
   ]
  },
  {
   "cell_type": "code",
   "execution_count": 23,
   "metadata": {},
   "outputs": [],
   "source": [
    "X_val = pd.merge(X_val, forecast_val, how='inner', left_on=['state_id', 'date'], right_on=['state_id', 'ds'])"
   ]
  },
  {
   "cell_type": "markdown",
   "metadata": {},
   "source": [
    "### SAVE DATASET"
   ]
  },
  {
   "cell_type": "code",
   "execution_count": 29,
   "metadata": {},
   "outputs": [],
   "source": [
    "X_train.drop(['date','ds'], axis=1, inplace=True)"
   ]
  },
  {
   "cell_type": "code",
   "execution_count": 30,
   "metadata": {},
   "outputs": [],
   "source": [
    "X_val.drop(['date','ds'], axis=1, inplace=True)"
   ]
  },
  {
   "cell_type": "code",
   "execution_count": 31,
   "metadata": {},
   "outputs": [],
   "source": [
    "pickle.dump(X_train,      open(f'{OUTPUT_PATH}/X_train_prophet.pkl', 'wb'))\n",
    "pickle.dump(X_val,        open(f'{OUTPUT_PATH}/X_val_prophet.pkl',   'wb'))\n",
    "pickle.dump(y_train,      open(f'{OUTPUT_PATH}/Y_train_prophet.pkl', 'wb'))\n",
    "pickle.dump(y_val,        open(f'{OUTPUT_PATH}/Y_val_prophet.pkl',   'wb'))\n"
   ]
  }
 ],
 "metadata": {
  "file_extension": ".py",
  "kernelspec": {
   "display_name": "prophetenv",
   "language": "python",
   "name": "prophetenv"
  },
  "language_info": {
   "codemirror_mode": {
    "name": "ipython",
    "version": 3
   },
   "file_extension": ".py",
   "mimetype": "text/x-python",
   "name": "python",
   "nbconvert_exporter": "python",
   "pygments_lexer": "ipython3",
   "version": "3.7.6"
  },
  "mimetype": "text/x-python",
  "name": "python",
  "npconvert_exporter": "python",
  "pygments_lexer": "ipython3",
  "version": 3
 },
 "nbformat": 4,
 "nbformat_minor": 2
}
