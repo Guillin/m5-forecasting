{
 "cells": [
  {
   "cell_type": "code",
   "execution_count": null,
   "metadata": {},
   "outputs": [],
   "source": [
    "import pandas as pd\n",
    "import numpy as np\n",
    "from pandas import read_csv\n",
    "from pandas import datetime\n",
    "from matplotlib import pyplot as plt\n",
    "from pandas import Series\n",
    "from sklearn.metrics import mean_squared_error\n",
    "from datetime import datetime\n",
    "from ipywidgets import IntProgress\n",
    "from multiprocessing import Pool, cpu_count\n",
    "import pickle"
   ]
  },
  {
   "cell_type": "code",
   "execution_count": null,
   "metadata": {},
   "outputs": [],
   "source": [
    "from math import sqrt\n",
    "from multiprocessing import cpu_count\n",
    "from joblib import Parallel\n",
    "from joblib import delayed\n",
    "from warnings import catch_warnings\n",
    "from warnings import filterwarnings\n",
    "from fbprophet import Prophet"
   ]
  },
  {
   "cell_type": "code",
   "execution_count": null,
   "metadata": {},
   "outputs": [],
   "source": [
    "import os"
   ]
  },
  {
   "cell_type": "code",
   "execution_count": null,
   "metadata": {},
   "outputs": [],
   "source": [
    "from tqdm import tqdm_notebook"
   ]
  },
  {
   "cell_type": "code",
   "execution_count": null,
   "metadata": {},
   "outputs": [],
   "source": [
    "import warnings\n",
    "warnings.filterwarnings('ignore')"
   ]
  },
  {
   "cell_type": "markdown",
   "metadata": {},
   "source": [
    "### GLOBAL VARIABLES"
   ]
  },
  {
   "cell_type": "code",
   "execution_count": null,
   "metadata": {},
   "outputs": [],
   "source": [
    "INPUT_PATH = '../../../data/processed'\n",
    "INPUT_FILE_NAME = 'dataproc_v002_HNNMF'\n",
    "MODEL_PATH = '../../../models/prophet'\n",
    "MODEL_NAME = 'prophet_004'\n",
    "OUTPUT_PATH = '../../../data/submission'\n",
    "OUTPUT_NAME = 'submission_008'\n",
    "NRUN = 2\n",
    "DAYS_PRED = 28\n",
    "METRIC = 'rmse'"
   ]
  },
  {
   "cell_type": "markdown",
   "metadata": {},
   "source": [
    "### FUNCTIONS"
   ]
  },
  {
   "cell_type": "code",
   "execution_count": null,
   "metadata": {},
   "outputs": [],
   "source": [
    "def on_kaggle():\n",
    "    return \"KAGGLE_KERNEL_RUN_TYPE\" in os.environ"
   ]
  },
  {
   "cell_type": "code",
   "execution_count": null,
   "metadata": {},
   "outputs": [],
   "source": [
    "def rmse(y_true, y_pred):\n",
    "    return np.sqrt(mean_squared_error(y_true, y_pred))"
   ]
  },
  {
   "cell_type": "code",
   "execution_count": null,
   "metadata": {},
   "outputs": [],
   "source": [
    "# score a model, return None on failure\n",
    "def run_prophet(train, period=DAYS_PRED):\n",
    "    cfg_prophet = dict()\n",
    "    cfg_prophet['yearly_seasonality'] = True\n",
    "    cfg_prophet['daily_seasonality'] = False\n",
    "    cfg_prophet['weekly_seasonality'] = True\n",
    "    cfg_prophet['seasonality_prior_scale'] = 0.1\n",
    "   \n",
    "    m = Prophet(**cfg_prophet)\n",
    "\n",
    "    # show all warnings and fail on exception if debugging\n",
    "    with catch_warnings():\n",
    "        filterwarnings(\"ignore\")\n",
    "\n",
    "        m.fit(train)\n",
    "        future = m.make_future_dataframe(periods=period,include_history=False)\n",
    "\n",
    "        forecast = m.predict(future)\n",
    "\n",
    "    return forecast"
   ]
  },
  {
   "cell_type": "code",
   "execution_count": null,
   "metadata": {},
   "outputs": [],
   "source": [
    "def make_submission(test, submission):\n",
    "    preds = test[[\"id\", \"date\", \"demand\"]]\n",
    "    preds = preds.pivot(index=\"id\", columns=\"date\", values=\"demand\").reset_index()\n",
    "    preds.columns = [\"id\"] + [\"F\" + str(d + 1) for d in range(DAYS_PRED)]\n",
    "\n",
    "    vals = submission[[\"id\"]].merge(preds, how=\"inner\", on=\"id\")\n",
    "    evals = submission[submission[\"id\"].str.endswith(\"evaluation\")]\n",
    "    final = pd.concat([vals, evals])\n",
    "\n",
    "    assert final.drop(\"id\", axis=1).isnull().sum().sum() == 0\n",
    "    assert final[\"id\"].equals(submission[\"id\"])\n",
    "\n",
    "    if on_kaggle():\n",
    "        final.to_csv(\"submission.csv\", index=False)\n",
    "    else:\n",
    "        final.to_csv(f\"{OUTPUT_PATH}/{OUTPUT_NAME}.csv\", index=False)"
   ]
  },
  {
   "cell_type": "markdown",
   "metadata": {},
   "source": [
    "### LOAD DATASET"
   ]
  },
  {
   "cell_type": "code",
   "execution_count": null,
   "metadata": {},
   "outputs": [],
   "source": [
    "data = pd.read_pickle(f'{INPUT_PATH}/{INPUT_FILE_NAME}.pkl')"
   ]
  },
  {
   "cell_type": "code",
   "execution_count": null,
   "metadata": {},
   "outputs": [],
   "source": [
    "submission = pd.read_csv(f'{INPUT_PATH}/sample_submission.csv')"
   ]
  },
  {
   "cell_type": "code",
   "execution_count": null,
   "metadata": {},
   "outputs": [],
   "source": [
    "train = data[data.part == 'train'] # select only train data"
   ]
  },
  {
   "cell_type": "code",
   "execution_count": null,
   "metadata": {},
   "outputs": [],
   "source": [
    "features = ['id','date', 'demand_hankel']"
   ]
  },
  {
   "cell_type": "code",
   "execution_count": null,
   "metadata": {},
   "outputs": [],
   "source": [
    "train = train[features]"
   ]
  },
  {
   "cell_type": "code",
   "execution_count": null,
   "metadata": {},
   "outputs": [],
   "source": [
    "train.sort_values(['id','date'], inplace=True, ascending=True)"
   ]
  },
  {
   "cell_type": "code",
   "execution_count": null,
   "metadata": {},
   "outputs": [],
   "source": [
    "idx_vector = train.id.unique()"
   ]
  },
  {
   "cell_type": "code",
   "execution_count": null,
   "metadata": {},
   "outputs": [],
   "source": [
    "train_vector = []\n",
    "STEP=703\n",
    "init = 0\n",
    "for n in tqdm_notebook(range(1,train.id.nunique()+1)):\n",
    "    end = STEP*n\n",
    "    ts = train.iloc[init:end, -2:]\n",
    "    ts.columns = ['ds', 'y']\n",
    "    train_vector.append(ts)\n",
    "    init+=STEP\n",
    "    "
   ]
  },
  {
   "cell_type": "markdown",
   "metadata": {},
   "source": [
    "## TRAIN MODEL"
   ]
  },
  {
   "cell_type": "code",
   "execution_count": null,
   "metadata": {},
   "outputs": [],
   "source": [
    "tic = datetime.now()\n",
    "p = Pool(cpu_count())\n",
    "predictions = list(tqdm_notebook(p.imap(run_prophet, train_vector), total=len(train_vector)))\n",
    "p.close()\n",
    "p.join()\n",
    "toc = datetime.now()\n",
    "print(\"Total time \" ,(toc - tic).seconds/60, \" min\")"
   ]
  },
  {
   "cell_type": "code",
   "execution_count": null,
   "metadata": {},
   "outputs": [],
   "source": [
    "pickle.dump(predictions, open(f'{MODEL_PATH}/{MODEL_NAME}.pkl', 'wb'))"
   ]
  },
  {
   "cell_type": "code",
   "execution_count": null,
   "metadata": {},
   "outputs": [],
   "source": [
    "test = pd.DataFrame() \n",
    "for idx, pred in zip(idx_vector,tqdm_notebook(predictions)):\n",
    "    df =pred.iloc[:,[0,-1]]\n",
    "    df['id'] = idx\n",
    "    test = test.append(df)\n",
    "    "
   ]
  },
  {
   "cell_type": "code",
   "execution_count": null,
   "metadata": {},
   "outputs": [],
   "source": [
    "test.columns = [\"date\", \"demand\", \"id\"]"
   ]
  },
  {
   "cell_type": "code",
   "execution_count": null,
   "metadata": {},
   "outputs": [],
   "source": [
    "make_submission(test,submission)"
   ]
  }
 ],
 "metadata": {
  "file_extension": ".py",
  "kernelspec": {
   "display_name": "prophetenv",
   "language": "python",
   "name": "prophetenv"
  },
  "language_info": {
   "codemirror_mode": {
    "name": "ipython",
    "version": 3
   },
   "file_extension": ".py",
   "mimetype": "text/x-python",
   "name": "python",
   "nbconvert_exporter": "python",
   "pygments_lexer": "ipython3",
   "version": "3.7.6"
  },
  "mimetype": "text/x-python",
  "name": "python",
  "npconvert_exporter": "python",
  "pygments_lexer": "ipython3",
  "version": 3
 },
 "nbformat": 4,
 "nbformat_minor": 2
}
