{
 "cells": [
  {
   "cell_type": "code",
   "execution_count": 1,
   "metadata": {},
   "outputs": [],
   "source": [
    "import pandas as pd\n",
    "import pickle as pickle\n",
    "import numpy as np\n",
    "from datetime import datetime\n",
    "from datetime import date\n",
    "from scipy import stats\n",
    "import warnings; warnings.simplefilter('ignore')\n",
    "import pyodbc as pyo\n",
    "\n",
    "pd.set_option('display.max_columns', None)\n"
   ]
  },
  {
   "cell_type": "markdown",
   "metadata": {},
   "source": [
    "### GLOBAL VARIABLES"
   ]
  },
  {
   "cell_type": "code",
   "execution_count": 2,
   "metadata": {},
   "outputs": [],
   "source": [
    "PATH = '../../data/features'\n",
    "FEATURES_FILE_NAME = 'filter_univariate_rocauc_mse_v008'\n",
    "INPUT_FILE_NAME = 'features_v008'\n",
    "OUTPUT_FILE_NAME = 'features_v009'\n",
    "SEED = 47\n",
    "TOP_IG = 30"
   ]
  },
  {
   "cell_type": "code",
   "execution_count": 3,
   "metadata": {},
   "outputs": [],
   "source": [
    "data = pd.read_pickle(f'{PATH}/{INPUT_FILE_NAME}.pkl')"
   ]
  },
  {
   "cell_type": "code",
   "execution_count": 4,
   "metadata": {},
   "outputs": [],
   "source": [
    "features = np.load(f'{PATH}/{FEATURES_FILE_NAME}.npy').tolist()"
   ]
  },
  {
   "cell_type": "code",
   "execution_count": 5,
   "metadata": {},
   "outputs": [
    {
     "data": {
      "text/plain": [
       "['demand_smoothed_shift_t28',\n",
       " 'demand_smoothed_rolling_min_t180',\n",
       " 'item_id',\n",
       " 'demand_smoothed_rolling_std_t30',\n",
       " 'demand_smoothed_rolling_min_t70',\n",
       " 'demand_smoothed_rolling_std_t5',\n",
       " 'sell_price',\n",
       " 'price_pct_change_p365',\n",
       " 'demand_smoothed_diff_3',\n",
       " 'price_pct_change_p180',\n",
       " 'dept_id',\n",
       " 'demand_smoothed_diff_360',\n",
       " 'price_diff_p365',\n",
       " 'demand_smoothed_diff_30',\n",
       " 'cat_id',\n",
       " 'price_diff_p180',\n",
       " 'price_pct_change_p90',\n",
       " 'store_id',\n",
       " 'is_weekend',\n",
       " 'dayofweek',\n",
       " 'price_pct_change_p30',\n",
       " 'wm_yr_wk',\n",
       " 'price_diff_p90',\n",
       " 'year',\n",
       " 'snap_WI',\n",
       " 'snap_CA',\n",
       " 'event_type_1',\n",
       " 'event_name_1',\n",
       " 'state_id',\n",
       " 'snap_TX',\n",
       " 'quarter',\n",
       " 'price_pct_change_p7',\n",
       " 'price_pct_change_p1',\n",
       " 'day',\n",
       " 'price_pct_change_p3']"
      ]
     },
     "execution_count": 5,
     "metadata": {},
     "output_type": "execute_result"
    }
   ],
   "source": [
    "features"
   ]
  },
  {
   "cell_type": "code",
   "execution_count": 6,
   "metadata": {},
   "outputs": [],
   "source": [
    "features = features + ['d', 'id', 'part', 'date', 'demand_smoothed']"
   ]
  },
  {
   "cell_type": "code",
   "execution_count": 7,
   "metadata": {},
   "outputs": [],
   "source": [
    "data = data[features]"
   ]
  },
  {
   "cell_type": "code",
   "execution_count": 8,
   "metadata": {},
   "outputs": [
    {
     "data": {
      "text/plain": [
       "(22288190, 40)"
      ]
     },
     "execution_count": 8,
     "metadata": {},
     "output_type": "execute_result"
    }
   ],
   "source": [
    "data.shape"
   ]
  },
  {
   "cell_type": "markdown",
   "metadata": {},
   "source": [
    "### SAVE DATASET"
   ]
  },
  {
   "cell_type": "code",
   "execution_count": 9,
   "metadata": {},
   "outputs": [],
   "source": [
    "data.to_pickle(f'{PATH}/{OUTPUT_FILE_NAME}.pkl')"
   ]
  }
 ],
 "metadata": {
  "kernelspec": {
   "display_name": "Python 3",
   "language": "python",
   "name": "python3"
  },
  "language_info": {
   "codemirror_mode": {
    "name": "ipython",
    "version": 3
   },
   "file_extension": ".py",
   "mimetype": "text/x-python",
   "name": "python",
   "nbconvert_exporter": "python",
   "pygments_lexer": "ipython3",
   "version": "3.7.6"
  }
 },
 "nbformat": 4,
 "nbformat_minor": 2
}
