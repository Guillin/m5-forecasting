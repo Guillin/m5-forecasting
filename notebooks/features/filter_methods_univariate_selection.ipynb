{
 "cells": [
  {
   "cell_type": "markdown",
   "metadata": {},
   "source": [
    "# Univariate feature selection\n",
    "\n",
    "Univariate feature selection works by selecting the best features based on univariate statistical tests (ANOVA). The methods based on F-test estimate the degree of linear dependency between two random variables. They assume a linear relationship between the feature and the target. These methods also assume that the variables follow a Gaussian distribution.\n",
    "\n",
    "These may not always be the case for the variables in your dataset, so if looking to implement these procedure, you will need to corroborate these assumptions.\n",
    "\n",
    "I will demonstrate how to select features based on univariate tests using sklearn on a regression and classification problem. For classification I will use the Paribas claims dataset from Kaggle. For regression, the House Price dataset from Kaggle.\n",
    "\n",
    "For the sake of the demonstration, I will assume that the variables show a linear relationship with the target, and that they are normally distributed. But when or if you choose to implement these selection procedure for your features, you will have to check that this is the case, to make sure you are implementing the right method."
   ]
  },
  {
   "cell_type": "code",
   "execution_count": 1,
   "metadata": {},
   "outputs": [],
   "source": [
    "import pandas as pd\n",
    "import numpy as np\n",
    "\n",
    "import matplotlib.pyplot as plt\n",
    "import seaborn as sns\n",
    "%matplotlib inline\n",
    "\n",
    "from sklearn.model_selection import train_test_split\n",
    "\n",
    "from sklearn.feature_selection import f_classif, f_regression\n",
    "from sklearn.feature_selection import SelectKBest, SelectPercentile"
   ]
  },
  {
   "cell_type": "markdown",
   "metadata": {},
   "source": [
    "### GLOBAL VARIABLES"
   ]
  },
  {
   "cell_type": "code",
   "execution_count": 7,
   "metadata": {},
   "outputs": [],
   "source": [
    "INPUT_PATH = '../../data/train_test'\n",
    "OUTPUT_PATH = '../../data/features'\n",
    "INPUT_FILE_NAME = 'filter_features_correlation_v008'\n",
    "OUTPUT_FILE_NAME = 'filter_features_univariate_v008'\n",
    "SEED = 47\n",
    "CUTOFF = 0.9"
   ]
  },
  {
   "cell_type": "markdown",
   "metadata": {},
   "source": [
    "### FUNCTIONS"
   ]
  },
  {
   "cell_type": "code",
   "execution_count": 3,
   "metadata": {},
   "outputs": [],
   "source": [
    "def reduce_mem_usage(df, verbose=False):\n",
    "    start_mem = df.memory_usage().sum() / 1024 ** 2\n",
    "    int_columns = df.select_dtypes(include=[\"int\"]).columns\n",
    "    float_columns = df.select_dtypes(include=[\"float\"]).columns\n",
    "\n",
    "    for col in int_columns:\n",
    "        df[col] = pd.to_numeric(df[col], downcast=\"integer\")\n",
    "\n",
    "    for col in float_columns:\n",
    "        df[col] = pd.to_numeric(df[col], downcast=\"float\")\n",
    "\n",
    "    end_mem = df.memory_usage().sum() / 1024 ** 2\n",
    "    if verbose:\n",
    "        print(\n",
    "            \"Mem. usage decreased to {:5.2f} Mb ({:.1f}% reduction)\".format(\n",
    "                end_mem, 100 * (start_mem - end_mem) / start_mem\n",
    "            )\n",
    "        )\n",
    "    return df"
   ]
  },
  {
   "cell_type": "markdown",
   "metadata": {},
   "source": [
    "### LOAD DATASET\n",
    "\n",
    "##### Important\n",
    "\n",
    "In all feature selection procedures, it is good practice to select the features by examining only the training set. And this is to avoid overfit."
   ]
  },
  {
   "cell_type": "code",
   "execution_count": 4,
   "metadata": {},
   "outputs": [],
   "source": [
    "# load the Santander customer satisfaction dataset from Kaggle\n",
    "X_train = pd.read_pickle(f'{INPUT_PATH}/X_train.pkl').pipe(reduce_mem_usage)\n",
    "y_train = pd.read_pickle(f'{INPUT_PATH}/Y_train.pkl')"
   ]
  },
  {
   "cell_type": "code",
   "execution_count": 5,
   "metadata": {},
   "outputs": [
    {
     "name": "stdout",
     "output_type": "stream",
     "text": [
      "X_train:  (20580750, 124)\n",
      "y_train:  (20580750,)\n"
     ]
    }
   ],
   "source": [
    "print(\"X_train: \", X_train.shape)\n",
    "print(\"y_train: \", y_train.shape)"
   ]
  },
  {
   "cell_type": "code",
   "execution_count": 8,
   "metadata": {},
   "outputs": [],
   "source": [
    "features = np.load(f'{OUTPUT_PATH}/{INPUT_FILE_NAME}.npy').tolist()"
   ]
  },
  {
   "cell_type": "code",
   "execution_count": 9,
   "metadata": {},
   "outputs": [],
   "source": [
    "X_train = X_train[features]"
   ]
  },
  {
   "cell_type": "code",
   "execution_count": 10,
   "metadata": {},
   "outputs": [
    {
     "name": "stdout",
     "output_type": "stream",
     "text": [
      "X_train:  (20580750, 65)\n",
      "y_train:  (20580750,)\n"
     ]
    }
   ],
   "source": [
    "print(\"X_train: \", X_train.shape)\n",
    "print(\"y_train: \", y_train.shape)"
   ]
  },
  {
   "cell_type": "code",
   "execution_count": 11,
   "metadata": {},
   "outputs": [],
   "source": [
    "X_train['target'] = y_train.values"
   ]
  },
  {
   "cell_type": "code",
   "execution_count": 12,
   "metadata": {},
   "outputs": [],
   "source": [
    "features_init = X_train.columns.tolist()"
   ]
  },
  {
   "cell_type": "markdown",
   "metadata": {},
   "source": [
    "### SAMPLE DATASET"
   ]
  },
  {
   "cell_type": "code",
   "execution_count": 13,
   "metadata": {},
   "outputs": [],
   "source": [
    "X_train = X_train.groupby(['item_id', 'store_id']).apply(lambda x: pd.DataFrame.sample(x, frac=.3, random_state=SEED))"
   ]
  },
  {
   "cell_type": "code",
   "execution_count": 14,
   "metadata": {},
   "outputs": [],
   "source": [
    "y_train = X_train.target"
   ]
  },
  {
   "cell_type": "code",
   "execution_count": 15,
   "metadata": {},
   "outputs": [],
   "source": [
    "X_train.drop('target', axis=1, inplace=True)"
   ]
  },
  {
   "cell_type": "code",
   "execution_count": 16,
   "metadata": {},
   "outputs": [
    {
     "name": "stdout",
     "output_type": "stream",
     "text": [
      "X_train:  (6158980, 65)\n",
      "y_train:  (6158980,)\n"
     ]
    }
   ],
   "source": [
    "print(\"X_train: \", X_train.shape)\n",
    "print(\"y_train: \", y_train.shape)"
   ]
  },
  {
   "cell_type": "markdown",
   "metadata": {},
   "source": [
    "### SELECT NUMERIC FEATURES"
   ]
  },
  {
   "cell_type": "code",
   "execution_count": 17,
   "metadata": {},
   "outputs": [],
   "source": [
    "catfeatures = set(['item_id', 'dept_id', 'cat_id', 'store_id', 'state_id', 'month', 'week', 'year'])"
   ]
  },
  {
   "cell_type": "code",
   "execution_count": 18,
   "metadata": {},
   "outputs": [],
   "source": [
    "# In practice, feature selection should be done after data pre-processing,\n",
    "# so ideally, all the categorical variables are encoded into numbers,\n",
    "# and then you can assess how deterministic they are of the target\n",
    "\n",
    "# here for simplicity I will use only numerical variables\n",
    "# select numerical columns:\n",
    "\n",
    "numerics = ['int8', 'int16', 'int32', 'int64', 'float16', 'float32', 'float64']\n",
    "numerical_vars = list(X_train.select_dtypes(include=numerics).columns)\n",
    "X_train = X_train[numerical_vars]"
   ]
  },
  {
   "cell_type": "code",
   "execution_count": 19,
   "metadata": {},
   "outputs": [
    {
     "name": "stdout",
     "output_type": "stream",
     "text": [
      "X_train:  (6158980, 65)\n",
      "y_train:  (6158980,)\n"
     ]
    }
   ],
   "source": [
    "print(\"X_train: \", X_train.shape)\n",
    "print(\"y_train: \", y_train.shape)"
   ]
  },
  {
   "cell_type": "markdown",
   "metadata": {},
   "source": [
    "## CLASSIFICATION"
   ]
  },
  {
   "cell_type": "code",
   "execution_count": 6,
   "metadata": {
    "collapsed": true
   },
   "outputs": [
    {
     "data": {
      "text/plain": [
       "(array([  2.11162492e+01,   5.06903417e+00,   4.27818275e+00,\n",
       "          1.95927569e+01,   8.53173465e+00,   1.54298512e+01,\n",
       "          5.46509341e+00,   3.04682965e+01,   8.24285946e+02,\n",
       "          2.68913033e+01,   9.66316909e+01,   3.19551560e+01,\n",
       "          6.33578816e+02,   3.81883239e+01,   2.66401706e+01,\n",
       "          3.21455592e-01,   5.48803980e+00,   3.13932541e+01,\n",
       "          2.39185299e+01,   9.98605317e+01,   2.38686426e+01,\n",
       "          5.13173713e+00,   1.14013701e+01,   1.47892193e+01,\n",
       "          2.09524865e+01,   1.82398726e+01,   3.47714707e+01,\n",
       "          5.14114122e+01,   3.36632813e+02,   2.50797299e+01,\n",
       "          4.91492071e+01,   2.84653396e+01,   1.48795180e+02,\n",
       "          1.83116171e+00,   3.93028656e+01,   2.20369384e+01,\n",
       "          2.60488115e+01,   1.35485945e+01,   1.22121075e+01,\n",
       "          3.79558867e+01,   6.12330299e+00,   4.72631041e+01,\n",
       "          2.57529828e+01,   2.25353557e+03,   6.30730647e+01,\n",
       "          2.71971830e+01,   3.57244547e+00,   5.47203890e+01,\n",
       "          1.87468953e+01,   3.63673671e+01,   1.33672376e+01,\n",
       "          9.62825324e+00,   1.60122231e+01,   3.15569360e+02,\n",
       "          5.92990567e+00,   1.47799610e+00,   1.88168967e+01,\n",
       "          2.31550693e+01,   3.39125923e+01,   3.07439646e+01,\n",
       "          2.94671679e+01,   2.21646296e+02,   4.08098635e+01,\n",
       "          4.27615421e-02,   2.30619371e+01,   2.84308723e+01,\n",
       "          3.92602421e+01,   5.00308960e+01,   7.99124051e+00,\n",
       "          5.17599557e+01,   4.39920447e+01,   6.04977737e+01,\n",
       "          2.63776459e+01,   1.13283365e+01,   3.26261658e-03,\n",
       "          4.37831948e+00,   2.87921450e+01,   1.95541038e+01,\n",
       "          3.24049049e+00,   2.97941380e+01,   2.55998495e+01,\n",
       "          1.75487794e+01,   1.64130974e+01,   2.03296436e+01,\n",
       "          6.23607720e+00,   3.05850206e+00,   2.32848600e+00,\n",
       "          4.53018051e+00,   3.41060300e+01,   2.96215497e+01,\n",
       "          1.92358703e+00,   6.80204164e+00,   5.96499482e+00,\n",
       "          4.61221949e-01,   4.37129986e+01,   2.17095191e+02,\n",
       "          2.20237595e+01,   1.50231984e+01,   1.15133166e+01,\n",
       "          1.91165316e+01,   8.52798037e+01,   1.38599974e+01,\n",
       "          5.26659973e+01,   2.29319125e+01,   8.11300571e+01,\n",
       "          3.70126161e+00,   2.20791898e+01,   1.37462484e+01,\n",
       "          2.14933456e+00,   7.50239337e+02,   5.26979708e+01,\n",
       "          4.00535095e+00]),\n",
       " array([  4.33754264e-006,   2.43631270e-002,   3.86119289e-002,\n",
       "          9.61212723e-006,   3.49229731e-003,   8.57891849e-005,\n",
       "          1.94056210e-002,   3.41770774e-008,   3.40661191e-179,\n",
       "          2.16421152e-007,   8.93721855e-023,   1.58999006e-008,\n",
       "          1.42841240e-138,   6.49428388e-010,   2.46431937e-007,\n",
       "          5.70737834e-001,   1.91525699e-002,   2.12293418e-008,\n",
       "          1.00945047e-006,   1.75813607e-023,   1.03593333e-006,\n",
       "          2.34982892e-002,   7.34697874e-004,   1.20433642e-004,\n",
       "          4.72433448e-006,   1.95271852e-005,   3.74164521e-009,\n",
       "          7.63836429e-013,   7.75510386e-075,   5.52751541e-007,\n",
       "          2.41507044e-012,   9.59828788e-008,   3.73009883e-034,\n",
       "          1.75999132e-001,   3.67135710e-010,   2.68465562e-006,\n",
       "          3.34633000e-007,   2.32814407e-004,   4.75390544e-004,\n",
       "          7.31495865e-010,   1.33458324e-002,   6.31092827e-012,\n",
       "          3.90009889e-007,   0.00000000e+000,   2.05096945e-015,\n",
       "          1.84769740e-007,   5.87539933e-002,   1.42068254e-013,\n",
       "          1.49680564e-005,   1.65051386e-009,   2.56433011e-004,\n",
       "          1.91759304e-003,   6.30643113e-005,   2.72301793e-070,\n",
       "          1.48909983e-002,   2.24096514e-001,   1.44289068e-005,\n",
       "          1.50070745e-006,   5.81474208e-009,   2.96540029e-008,\n",
       "          5.72494306e-008,   5.62890337e-050,   1.69888477e-010,\n",
       "          8.36176131e-001,   1.57513415e-006,   9.77055332e-008,\n",
       "          3.75229068e-010,   1.54181038e-012,   4.70308516e-003,\n",
       "          6.39754745e-013,   3.34507100e-011,   7.56755347e-015,\n",
       "          2.82274218e-007,   7.64152958e-004,   9.54450473e-001,\n",
       "          3.64060524e-002,   8.10884387e-008,   9.80847011e-006,\n",
       "          7.18477363e-002,   4.83699956e-008,   4.22194357e-007,\n",
       "          2.80715968e-005,   5.10418830e-005,   6.53941559e-006,\n",
       "          1.25219001e-002,   8.03244452e-002,   1.27034406e-001,\n",
       "          3.33090700e-002,   5.26497932e-009,   5.28698926e-008,\n",
       "          1.65470600e-001,   9.10923623e-003,   1.45975560e-002,\n",
       "          4.97057938e-001,   3.85697489e-011,   5.45713526e-049,\n",
       "          2.70314050e-006,   1.06391319e-004,   6.91759156e-004,\n",
       "          1.23329449e-005,   2.73113046e-020,   1.97254720e-004,\n",
       "          4.03581972e-013,   1.68527785e-006,   2.21754132e-019,\n",
       "          5.43794426e-002,   2.62624437e-006,   2.09561056e-004,\n",
       "          1.42640681e-001,   1.89474469e-163,   3.97074713e-013,\n",
       "          4.53637600e-002]))"
      ]
     },
     "execution_count": 6,
     "metadata": {},
     "output_type": "execute_result"
    }
   ],
   "source": [
    "# calculate the univariate statistical measure between\n",
    "# each of the variables and the target\n",
    "# similarly to chi2, the output is the array of f-scores\n",
    "# and an array of pvalues, which are the ones we will compare\n",
    "\n",
    "univariate = f_classif(X_train.fillna(0), y_train)\n",
    "univariate"
   ]
  },
  {
   "cell_type": "code",
   "execution_count": 7,
   "metadata": {
    "scrolled": true
   },
   "outputs": [],
   "source": [
    "# let's add the variable names and order it for clearer visualisation\n",
    "univariate = pd.Series(univariate[1])\n",
    "univariate.index = X_train.columns\n",
    "univariate.sort_values(ascending=False, inplace=True)"
   ]
  },
  {
   "cell_type": "code",
   "execution_count": 8,
   "metadata": {},
   "outputs": [
    {
     "data": {
      "text/plain": [
       "<matplotlib.axes._subplots.AxesSubplot at 0x339c0df550>"
      ]
     },
     "execution_count": 8,
     "metadata": {},
     "output_type": "execute_result"
    },
    {
     "data": {
      "image/png": "[encoded data removed]",
      "text/plain": [
       "<matplotlib.figure.Figure at 0x339c0d28d0>"
      ]
     },
     "metadata": {},
     "output_type": "display_data"
    }
   ],
   "source": [
    "# and now let's plot the p values\n",
    "univariate.sort_values(ascending=False).plot.bar(figsize=(20, 8))\n",
    "pass"
   ]
  },
  {
   "cell_type": "markdown",
   "metadata": {},
   "source": [
    "Remember that the lower the p_value, the most predictive the feature is in principle. There are a few features that do not seem to have predictive power according to this tests, which are those on the left with pvalues above 0.05. Given that typically in statistics one uses a pvalue of 0.05 as a cut-off, I am inclined to believe that those features with pvalue > 0.05 are indeed not important. However, keep in mind that this test assumes a linear relationship, so it might also be the case that the feature is related to the target but not in a linear manner.\n",
    "\n",
    "Further investigation is needed if we want to know the true nature of the relationship between feature and target.\n",
    "\n",
    "Similarly to what I mentioned in the previous lecture, in big datasets it is not unusual that the pvalues of the different features are really small. This does not say as much about the relevance of the feature. Mostly it indicates that it is a big the dataset.\n",
    "\n",
    "Once again, where we put the cut-off to select features is a bit arbitrary. One way is to select the top 10, 20 features. Alternatively, the top 10th percentile. For this, you can use anova in combination with SelectKBest or SelectPercentile from sklearn. See below."
   ]
  },
  {
   "cell_type": "code",
   "execution_count": 9,
   "metadata": {},
   "outputs": [
    {
     "data": {
      "text/plain": [
       "Index(['v10', 'v14', 'v21', 'v34', 'v38', 'v50', 'v62', 'v72', 'v114', 'v129'], dtype='object')"
      ]
     },
     "execution_count": 9,
     "metadata": {},
     "output_type": "execute_result"
    }
   ],
   "source": [
    "# here I will select the top 10 features\n",
    "sel_ = SelectKBest(f_classif, k=10).fit(X_train.fillna(0), y_train)\n",
    "X_train.columns[sel_.get_support()]"
   ]
  },
  {
   "cell_type": "code",
   "execution_count": 10,
   "metadata": {},
   "outputs": [
    {
     "data": {
      "text/plain": [
       "(35000, 10)"
      ]
     },
     "execution_count": 10,
     "metadata": {},
     "output_type": "execute_result"
    }
   ],
   "source": [
    "X_train = sel_.transform(X_train.fillna(0))\n",
    "X_train.shape"
   ]
  },
  {
   "cell_type": "markdown",
   "metadata": {},
   "source": [
    "## REGRESSION"
   ]
  },
  {
   "cell_type": "code",
   "execution_count": 22,
   "metadata": {
    "scrolled": true
   },
   "outputs": [],
   "source": [
    "univariate = f_regression(X_train.replace([np.inf, -np.inf], np.nan).fillna(0), y_train)\n",
    "univariate = pd.Series(univariate[1])\n",
    "univariate.index = X_train.columns\n",
    "univariate.sort_values(ascending=False, inplace=True)"
   ]
  },
  {
   "cell_type": "code",
   "execution_count": 23,
   "metadata": {},
   "outputs": [
    {
     "data": {
      "image/png": "[encoded data removed]",
      "text/plain": [
       "<Figure size 1440x576 with 1 Axes>"
      ]
     },
     "metadata": {
      "needs_background": "light"
     },
     "output_type": "display_data"
    }
   ],
   "source": [
    "univariate.sort_values(ascending=False).plot.bar(figsize=(20,8))\n",
    "pass"
   ]
  },
  {
   "cell_type": "markdown",
   "metadata": {},
   "source": [
    "Here again, there seem to be a bunch of features towards the left with pvalues above 0.05, which are candidates to be removed, as this means that the features do not statistically significantly discriminate the target."
   ]
  },
  {
   "cell_type": "code",
   "execution_count": 34,
   "metadata": {},
   "outputs": [
    {
     "data": {
      "text/plain": [
       "Index(['demand_smoothed_shift_t28', 'demand_smoothed_rolling_std_t5',\n",
       "       'demand_smoothed_rolling_std_t30', 'demand_smoothed_rolling_min_t70'],\n",
       "      dtype='object')"
      ]
     },
     "execution_count": 34,
     "metadata": {},
     "output_type": "execute_result"
    }
   ],
   "source": [
    "# here I will select the top 10 percentile\n",
    "sel_ = SelectPercentile(f_regression, percentile=10).fit(X_train.fillna(0), y_train)\n",
    "X_train.columns[sel_.get_support()]"
   ]
  },
  {
   "cell_type": "code",
   "execution_count": 35,
   "metadata": {},
   "outputs": [
    {
     "data": {
      "text/plain": [
       "(6158980, 4)"
      ]
     },
     "execution_count": 35,
     "metadata": {},
     "output_type": "execute_result"
    }
   ],
   "source": [
    "X_train = sel_.transform(X_train.fillna(0))\n",
    "features_final = list(X_train.columns)"
   ]
  },
  {
   "cell_type": "code",
   "execution_count": null,
   "metadata": {},
   "outputs": [],
   "source": [
    "print(len(features) - len(features_final), \" were removed. The number of final features is \", len(features_final))"
   ]
  },
  {
   "cell_type": "code",
   "execution_count": null,
   "metadata": {},
   "outputs": [],
   "source": [
    "# saving final features\n",
    "np.save(f'{OUTPUT_PATH}/{OUTPUT_FILE_NAME}.npy',features_final)"
   ]
  },
  {
   "cell_type": "markdown",
   "metadata": {},
   "source": [
    "I would say again that I rarely use these methods to select features. I do use them though when investigating the relationship of specific variables  with the target in bespoke problems that do not necessarily culminate in machine learning model building.\n",
    "\n",
    "In any case, I wanted to have them covered in the course and you can play with them and see if you find them useful.\n",
    "\n",
    "That is all for this lecture, I hope you enjoyed it and see you in the next one!"
   ]
  }
 ],
 "metadata": {
  "kernelspec": {
   "display_name": "statenv",
   "language": "python",
   "name": "statenv"
  },
  "language_info": {
   "codemirror_mode": {
    "name": "ipython",
    "version": 3
   },
   "file_extension": ".py",
   "mimetype": "text/x-python",
   "name": "python",
   "nbconvert_exporter": "python",
   "pygments_lexer": "ipython3",
   "version": "3.8.2"
  },
  "toc": {
   "nav_menu": {},
   "number_sections": true,
   "sideBar": true,
   "skip_h1_title": false,
   "toc_cell": false,
   "toc_position": {},
   "toc_section_display": "block",
   "toc_window_display": true
  }
 },
 "nbformat": 4,
 "nbformat_minor": 2
}
